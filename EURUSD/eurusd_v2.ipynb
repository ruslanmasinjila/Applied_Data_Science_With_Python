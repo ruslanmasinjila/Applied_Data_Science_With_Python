{
 "cells": [
  {
   "cell_type": "code",
   "execution_count": 113,
   "metadata": {},
   "outputs": [
    {
     "data": {
      "text/html": [
       "<div>\n",
       "<style scoped>\n",
       "    .dataframe tbody tr th:only-of-type {\n",
       "        vertical-align: middle;\n",
       "    }\n",
       "\n",
       "    .dataframe tbody tr th {\n",
       "        vertical-align: top;\n",
       "    }\n",
       "\n",
       "    .dataframe thead th {\n",
       "        text-align: right;\n",
       "    }\n",
       "</style>\n",
       "<table border=\"1\" class=\"dataframe\">\n",
       "  <thead>\n",
       "    <tr style=\"text-align: right;\">\n",
       "      <th></th>\n",
       "      <th>Close</th>\n",
       "      <th>Ratio</th>\n",
       "    </tr>\n",
       "  </thead>\n",
       "  <tbody>\n",
       "    <tr>\n",
       "      <th>0</th>\n",
       "      <td>0.273911</td>\n",
       "      <td>0.400824</td>\n",
       "    </tr>\n",
       "    <tr>\n",
       "      <th>1</th>\n",
       "      <td>0.294789</td>\n",
       "      <td>0.565418</td>\n",
       "    </tr>\n",
       "    <tr>\n",
       "      <th>2</th>\n",
       "      <td>0.295325</td>\n",
       "      <td>0.405004</td>\n",
       "    </tr>\n",
       "    <tr>\n",
       "      <th>3</th>\n",
       "      <td>0.290685</td>\n",
       "      <td>0.364613</td>\n",
       "    </tr>\n",
       "    <tr>\n",
       "      <th>4</th>\n",
       "      <td>0.267666</td>\n",
       "      <td>0.220769</td>\n",
       "    </tr>\n",
       "    <tr>\n",
       "      <th>...</th>\n",
       "      <td>...</td>\n",
       "      <td>...</td>\n",
       "    </tr>\n",
       "    <tr>\n",
       "      <th>3938</th>\n",
       "      <td>0.254104</td>\n",
       "      <td>0.474991</td>\n",
       "    </tr>\n",
       "    <tr>\n",
       "      <th>3939</th>\n",
       "      <td>0.264989</td>\n",
       "      <td>0.487444</td>\n",
       "    </tr>\n",
       "    <tr>\n",
       "      <th>3940</th>\n",
       "      <td>0.264811</td>\n",
       "      <td>0.399412</td>\n",
       "    </tr>\n",
       "    <tr>\n",
       "      <th>3941</th>\n",
       "      <td>0.273019</td>\n",
       "      <td>0.465814</td>\n",
       "    </tr>\n",
       "    <tr>\n",
       "      <th>3942</th>\n",
       "      <td>0.270164</td>\n",
       "      <td>0.378306</td>\n",
       "    </tr>\n",
       "  </tbody>\n",
       "</table>\n",
       "<p>3943 rows × 2 columns</p>\n",
       "</div>"
      ],
      "text/plain": [
       "         Close     Ratio\n",
       "0     0.273911  0.400824\n",
       "1     0.294789  0.565418\n",
       "2     0.295325  0.405004\n",
       "3     0.290685  0.364613\n",
       "4     0.267666  0.220769\n",
       "...        ...       ...\n",
       "3938  0.254104  0.474991\n",
       "3939  0.264989  0.487444\n",
       "3940  0.264811  0.399412\n",
       "3941  0.273019  0.465814\n",
       "3942  0.270164  0.378306\n",
       "\n",
       "[3943 rows x 2 columns]"
      ]
     },
     "execution_count": 113,
     "metadata": {},
     "output_type": "execute_result"
    }
   ],
   "source": [
    "%reset -f\n",
    "import pandas as pd\n",
    "import numpy as np\n",
    "import re\n",
    "import matplotlib.pyplot as plt\n",
    "%matplotlib inline\n",
    "\n",
    "original_prices = pd.read_csv(\"HistoricalPrices.csv\", sep=r'\\s*,\\s*', engine = 'python')[::-1].reset_index(drop=True)\n",
    "prices = original_prices.copy(deep = True)\n",
    "prices['Date'] = prices['Date'].apply(lambda x: int(''.join(x[0:5].split('/'))))\n",
    "\n",
    "del prices['Date']\n",
    "del prices['Open']\n",
    "del prices['High']\n",
    "del prices['Low']\n",
    "\n",
    "# Current close minus previous close\n",
    "difference = prices['Close'].diff(1).fillna(0)   \n",
    "\n",
    "# Current different divided by previous close\n",
    "prices['Ratio'] = difference.div(prices['Close'].shift(1)).fillna(0)\n",
    "\n",
    "# Standardize the columns\n",
    "prices_standardized=(prices-prices.min())/(prices.max()-prices.min())\n",
    "prices_standardized\n"
   ]
  },
  {
   "cell_type": "code",
   "execution_count": 124,
   "metadata": {},
   "outputs": [
    {
     "data": {
      "image/png": "[encoded data removed]",
      "text/plain": [
       "<Figure size 432x288 with 1 Axes>"
      ]
     },
     "metadata": {
      "needs_background": "light"
     },
     "output_type": "display_data"
    }
   ],
   "source": [
    "fig = plt.figure()\n",
    "prices_standardized['Ratio'].plot( )\n",
    "plt.xlabel(\"Index\")\n",
    "plt.ylabel(\"Price Ratio\")\n",
    "plt.title(\"Price ratios over time\")\n",
    "plt.show()"
   ]
  }
 ],
 "metadata": {
  "kernelspec": {
   "display_name": "Python 3",
   "language": "python",
   "name": "python3"
  },
  "language_info": {
   "codemirror_mode": {
    "name": "ipython",
    "version": 3
   },
   "file_extension": ".py",
   "mimetype": "text/x-python",
   "name": "python",
   "nbconvert_exporter": "python",
   "pygments_lexer": "ipython3",
   "version": "3.8.5"
  }
 },
 "nbformat": 4,
 "nbformat_minor": 4
}
