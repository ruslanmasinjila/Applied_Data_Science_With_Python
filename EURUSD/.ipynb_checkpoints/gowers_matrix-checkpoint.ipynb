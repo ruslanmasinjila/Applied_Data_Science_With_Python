{
 "cells": [
  {
   "cell_type": "code",
   "execution_count": 750,
   "metadata": {},
   "outputs": [],
   "source": [
    "%reset -f\n",
    "import numpy as np\n",
    "import gower\n",
    "import pandas as pd\n",
    "from datetime import datetime\n",
    "import matplotlib.pyplot as plt\n",
    "import matplotlib.ticker"
   ]
  },
  {
   "cell_type": "markdown",
   "metadata": {},
   "source": [
    "# LOAD PRICES"
   ]
  },
  {
   "cell_type": "code",
   "execution_count": 751,
   "metadata": {},
   "outputs": [
    {
     "name": "stdout",
     "output_type": "stream",
     "text": [
      "          Date      Open      High       Low     Close\n",
      "0     0.244517  0.745560  0.745560  0.749309  0.745560\n",
      "1     0.245329  0.745560  0.752876  0.749309  0.752876\n",
      "2     0.246141  0.752876  0.753064  0.756662  0.753064\n",
      "3     0.248578  0.753064  0.753064  0.755216  0.751438\n",
      "4     0.249391  0.751438  0.751438  0.747109  0.743372\n",
      "...        ...       ...       ...       ...       ...\n",
      "3938  0.329001  0.735618  0.739245  0.737682  0.738619\n",
      "3939  0.329813  0.738744  0.742871  0.741327  0.742434\n",
      "3940  0.330626  0.742371  0.745123  0.745412  0.742371\n",
      "3941  0.331438  0.742121  0.745810  0.745412  0.745248\n",
      "3942  0.332250  0.744935  0.745498  0.745789  0.744247\n",
      "\n",
      "[3943 rows x 5 columns]\n",
      "       Date    Open    High     Low   Close\n",
      "0     301.0  1.1923  1.1923  1.1923  1.1923\n",
      "1     302.0  1.1923  1.2040  1.1923  1.2040\n",
      "2     303.0  1.2040  1.2043  1.2040  1.2043\n",
      "3     306.0  1.2043  1.2043  1.2017  1.2017\n",
      "4     307.0  1.2017  1.2017  1.1888  1.1888\n",
      "...     ...     ...     ...     ...     ...\n",
      "3938  405.0  1.1764  1.1822  1.1738  1.1812\n",
      "3939  406.0  1.1814  1.1880  1.1796  1.1873\n",
      "3940  407.0  1.1872  1.1916  1.1861  1.1872\n",
      "3941  408.0  1.1868  1.1927  1.1861  1.1918\n",
      "3942  409.0  1.1913  1.1922  1.1867  1.1902\n",
      "\n",
      "[3943 rows x 5 columns]\n"
     ]
    }
   ],
   "source": [
    "path = \"~/Desktop/Applied_Data_Science_With_Python/EURUSD/HistoricalPrices.csv\"\n",
    "prices_original = pd.read_csv(path, sep=r'\\s*,\\s*',engine='python')\n",
    "prices_original = prices_original[::-1].reset_index(drop=True)\n",
    "prices = prices_original.copy(deep=True)\n",
    "\n",
    "# Change Format of the date from (MM/DD/YY) to (MM/DD)\n",
    "# Replace \"/\" by \"\"\n",
    "# Convert resulting string to float\n",
    "prices[\"Date\"] = prices[\"Date\"].apply(lambda x: x[0:-3].replace(\"/\",\"\")).astype(float)\n",
    "\n",
    "prices_scaled = prices/prices.max()\n",
    "\n",
    "print(prices_scaled)\n",
    "print(prices)\n",
    "    \n",
    "\n"
   ]
  },
  {
   "cell_type": "markdown",
   "metadata": {},
   "source": [
    "# CALCULATE SIMILARITY MATRIX"
   ]
  },
  {
   "cell_type": "markdown",
   "metadata": {},
   "source": [
    "# FIND LOWEST GOWER SCORES"
   ]
  },
  {
   "cell_type": "code",
   "execution_count": 752,
   "metadata": {},
   "outputs": [],
   "source": [
    "####################################################################\n",
    "def smallestGowerScores(i):\n",
    "    \n",
    "    # Calculate Similarity Matrix\n",
    "    similarity_matrix = gower.gower_matrix(prices_scaled.loc[0:i])\n",
    "    \n",
    "    # Ignore scores above this threshold. \n",
    "    # This threshold can be changed\n",
    "    # The lower the threshold, the similar the data points\n",
    "    gower_score_threshold = 0.1\n",
    "\n",
    "    # Compute the Gower Score for Row i\n",
    "    gower_scores_i = similarity_matrix[i,:]\n",
    "\n",
    "    # Sort the Gower Scores and return their corresponding indices\n",
    "    idx_i_sorted = np.argsort(gower_scores_i)\n",
    "\n",
    "    # Get the Gower scores according to the sorted indices\n",
    "    gower_scores_i_sorted = similarity_matrix[i,[idx_i_sorted]][0]\n",
    "    gower_scores_i_sorted = [x for x in gower_scores_i_sorted if x <= gower_score_threshold]\n",
    "\n",
    "    # Get the corresponding sorted indices given by the threshold\n",
    "    idx_i_sorted = idx_i_sorted[0:len(gower_scores_i_sorted)]\n",
    "\n",
    "    return idx_i_sorted, gower_scores_i_sorted, i\n",
    "    ####################################################################"
   ]
  },
  {
   "cell_type": "code",
   "execution_count": 753,
   "metadata": {},
   "outputs": [
    {
     "ename": "IndexError",
     "evalue": "index 1 is out of bounds for axis 0 with size 1",
     "output_type": "error",
     "traceback": [
      "\u001b[0;31m---------------------------------------------------------------------------\u001b[0m",
      "\u001b[0;31mIndexError\u001b[0m                                Traceback (most recent call last)",
      "\u001b[0;32m<ipython-input-753-c8b3c0a463e3>\u001b[0m in \u001b[0;36m<module>\u001b[0;34m\u001b[0m\n\u001b[1;32m     12\u001b[0m \u001b[0;34m\u001b[0m\u001b[0m\n\u001b[1;32m     13\u001b[0m     \u001b[0midx_i\u001b[0m\u001b[0;34m,\u001b[0m\u001b[0m_\u001b[0m\u001b[0;34m,\u001b[0m\u001b[0m_\u001b[0m \u001b[0;34m=\u001b[0m \u001b[0msmallestGowerScores\u001b[0m\u001b[0;34m(\u001b[0m\u001b[0mi\u001b[0m\u001b[0;34m+\u001b[0m\u001b[0mz\u001b[0m\u001b[0;34m)\u001b[0m\u001b[0;34m\u001b[0m\u001b[0;34m\u001b[0m\u001b[0m\n\u001b[0;32m---> 14\u001b[0;31m     \u001b[0mclosest\u001b[0m\u001b[0;34m.\u001b[0m\u001b[0mappend\u001b[0m\u001b[0;34m(\u001b[0m\u001b[0mprices\u001b[0m\u001b[0;34m.\u001b[0m\u001b[0mat\u001b[0m\u001b[0;34m[\u001b[0m\u001b[0midx_i\u001b[0m\u001b[0;34m[\u001b[0m\u001b[0;36m1\u001b[0m\u001b[0;34m]\u001b[0m\u001b[0;34m,\u001b[0m\u001b[0;34m\"Close\"\u001b[0m\u001b[0;34m]\u001b[0m\u001b[0;34m)\u001b[0m\u001b[0;34m\u001b[0m\u001b[0;34m\u001b[0m\u001b[0m\n\u001b[0m\u001b[1;32m     15\u001b[0m     \u001b[0mactual\u001b[0m\u001b[0;34m.\u001b[0m\u001b[0mappend\u001b[0m\u001b[0;34m(\u001b[0m\u001b[0mprices\u001b[0m\u001b[0;34m.\u001b[0m\u001b[0mat\u001b[0m\u001b[0;34m[\u001b[0m\u001b[0mi\u001b[0m\u001b[0;34m+\u001b[0m\u001b[0mz\u001b[0m\u001b[0;34m,\u001b[0m\u001b[0;34m\"Close\"\u001b[0m\u001b[0;34m]\u001b[0m\u001b[0;34m)\u001b[0m\u001b[0;34m\u001b[0m\u001b[0;34m\u001b[0m\u001b[0m\n\u001b[1;32m     16\u001b[0m     \u001b[0midx\u001b[0m\u001b[0;34m.\u001b[0m\u001b[0mappend\u001b[0m\u001b[0;34m(\u001b[0m\u001b[0midx_i\u001b[0m\u001b[0;34m[\u001b[0m\u001b[0;36m1\u001b[0m\u001b[0;34m]\u001b[0m\u001b[0;34m)\u001b[0m\u001b[0;34m\u001b[0m\u001b[0;34m\u001b[0m\u001b[0m\n",
      "\u001b[0;31mIndexError\u001b[0m: index 1 is out of bounds for axis 0 with size 1"
     ]
    }
   ],
   "source": [
    "numDays=20\n",
    "i=(len(prices_scaled)-1)-numDays\n",
    "#i=1500\n",
    "#idx_i_sorted, gower_scores_i_sorted,i = smallestGowerScores(i)\n",
    "#gower_scores_i_sorted_scaled = [1-(x-np.min(gower_scores_i_sorted))/(np.max(gower_scores_i_sorted)-np.min(gower_scores_i_sorted)) for x in gower_scores_i_sorted]\n",
    "\n",
    "\n",
    "idx = []\n",
    "actual= []\n",
    "closest = []\n",
    "for z in range(numDays+1):\n",
    "    \n",
    "    idx_i,_,_ = smallestGowerScores(i+z)\n",
    "    closest.append(prices.at[idx_i[1],\"Close\"])\n",
    "    actual.append(prices.at[i+z,\"Close\"])\n",
    "    idx.append(idx_i[1])\n",
    "    \n",
    "print(actual)\n",
    "print(closest)\n",
    "print(idx)\n",
    "print(i+z)\n",
    "    \n",
    "\n",
    "\n",
    "\n",
    "\n",
    "# closest = [prices.at[idx1[1],\"Close\"],prices.at[idx2[1],\"Close\"],prices.at[idx3[1],\"Close\"],prices.at[idx4[1],\"Close\"],prices.at[idx5[1],\"Close\"],prices.at[idx6[1],\"Close\"],prices.at[idx7[1],\"Close\"],prices.at[idx8[1],\"Close\"],prices.at[idx9[1],\"Close\"],prices.at[idx10[1],\"Close\"]]\n",
    "# actual = [prices.at[i,\"Close\"],prices.at[i+1,\"Close\"],prices.at[i+2,\"Close\"],prices.at[i+3,\"Close\"],prices.at[i+4,\"Close\"],prices.at[i+5,\"Close\"],prices.at[i+6,\"Close\"],prices.at[i+7,\"Close\"],prices.at[i+8,\"Close\"],prices.at[i+9,\"Close\"]]\n",
    "# print(actual)\n",
    "# print(closest)\n",
    "# print(idx1[1],idx2[1],idx3[1],idx4[1],idx5[1],idx6[1],idx7[1],idx8[1],idx9[1],idx10[1])\n",
    "\n",
    "fig = plt.figure()\n",
    "locator = matplotlib.ticker.MultipleLocator(1)\n",
    "plt.gca().xaxis.set_major_locator(locator)\n",
    "plt.plot(actual,'b')\n",
    "plt.plot(closest,'r')\n",
    "plt.show()\n",
    "\n",
    "\n",
    "\n",
    "#fig = plt.figure()\n",
    "#locator = matplotlib.ticker.MultipleLocator(1)\n",
    "#plt.gca().xaxis.set_major_locator(locator)\n",
    "#plt.bar([i for i in range(len(idx_i_sorted))],gower_scores_i_sorted_scaled)\n",
    "#plt.xlabel(\"Indeces of idx_i\")\n",
    "#plt.ylabel(\"SCaled Gower Scores\")\n",
    "#plt.title(\"Gower Scores vs Indices of idx\")\n",
    "#plt.show()\n",
    "\n",
    "# #print(i)\n",
    "# #print(idx_i_sorted)\n",
    "# #print(gower_scores_i_sorted)\n"
   ]
  },
  {
   "cell_type": "code",
   "execution_count": null,
   "metadata": {},
   "outputs": [],
   "source": [
    "prices_scaled.loc[0:20-15]"
   ]
  }
 ],
 "metadata": {
  "kernelspec": {
   "display_name": "Python 3",
   "language": "python",
   "name": "python3"
  },
  "language_info": {
   "codemirror_mode": {
    "name": "ipython",
    "version": 3
   },
   "file_extension": ".py",
   "mimetype": "text/x-python",
   "name": "python",
   "nbconvert_exporter": "python",
   "pygments_lexer": "ipython3",
   "version": "3.8.5"
  }
 },
 "nbformat": 4,
 "nbformat_minor": 4
}
