{
 "cells": [
  {
   "cell_type": "code",
   "execution_count": 50,
   "metadata": {},
   "outputs": [
    {
     "name": "stdout",
     "output_type": "stream",
     "text": [
      "          Date    Open    High     Low   Close\n",
      "0     04/09/21  1.1913  1.1922  1.1867  1.1902\n",
      "1     04/08/21  1.1868  1.1927  1.1861  1.1918\n",
      "2     04/07/21  1.1872  1.1916  1.1861  1.1872\n",
      "3     04/06/21  1.1814  1.1880  1.1796  1.1873\n",
      "4     04/05/21  1.1764  1.1822  1.1738  1.1812\n",
      "...        ...     ...     ...     ...     ...\n",
      "3938  03/07/06  1.2017  1.2017  1.1888  1.1888\n",
      "3939  03/06/06  1.2043  1.2043  1.2017  1.2017\n",
      "3940  03/03/06  1.2040  1.2043  1.2040  1.2043\n",
      "3941  03/02/06  1.1923  1.2040  1.1923  1.2040\n",
      "3942  03/01/06  1.1923  1.1923  1.1923  1.1923\n",
      "\n",
      "[3943 rows x 5 columns]\n"
     ]
    }
   ],
   "source": [
    "%reset -f\n",
    "import pandas as pd\n",
    "import numpy as np\n",
    "\n",
    "original_prices = pd.read_csv(\"HistoricalPrices.csv\", sep=r'\\s*,\\s*', engine = 'python')\n",
    "\n",
    "prices = original_prices.copy(deep = True)\n",
    "\n",
    "print(prices)\n",
    "\n",
    "prices['Date'] = prices['Date'].apply(lambda x: int(''.join(x[0:5].split('/'))))"
   ]
  },
  {
   "cell_type": "code",
   "execution_count": null,
   "metadata": {},
   "outputs": [],
   "source": []
  }
 ],
 "metadata": {
  "kernelspec": {
   "display_name": "Python 3",
   "language": "python",
   "name": "python3"
  },
  "language_info": {
   "codemirror_mode": {
    "name": "ipython",
    "version": 3
   },
   "file_extension": ".py",
   "mimetype": "text/x-python",
   "name": "python",
   "nbconvert_exporter": "python",
   "pygments_lexer": "ipython3",
   "version": "3.8.5"
  }
 },
 "nbformat": 4,
 "nbformat_minor": 4
}
