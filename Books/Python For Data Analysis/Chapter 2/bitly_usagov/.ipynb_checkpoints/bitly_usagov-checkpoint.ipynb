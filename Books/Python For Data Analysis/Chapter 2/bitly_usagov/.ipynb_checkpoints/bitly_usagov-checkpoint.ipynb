{
 "cells": [
  {
   "cell_type": "markdown",
   "metadata": {},
   "source": [
    "# Key Words\n",
    "json, reading from file, json lines, dictionary, collections, counter, dictionary items, pandas counting, filling in mising values, horizontal bar plots, groupby(), unstack a group, indirect index, argsort, pandas take, stacked bar graph, div"
   ]
  },
  {
   "cell_type": "markdown",
   "metadata": {},
   "source": [
    "# Reading JSON Lines"
   ]
  },
  {
   "cell_type": "code",
   "execution_count": 2,
   "metadata": {},
   "outputs": [
    {
     "ename": "FileNotFoundError",
     "evalue": "[Errno 2] No such file or directory: '/home/ruslan/Desktop/Applied_Data_Science_With_Python/Python For Data Analysis/Chapter 2/bitly_usagov/bitly_usagov.txt'",
     "output_type": "error",
     "traceback": [
      "\u001b[0;31m---------------------------------------------------------------------------\u001b[0m",
      "\u001b[0;31mFileNotFoundError\u001b[0m                         Traceback (most recent call last)",
      "\u001b[0;32m<ipython-input-2-726ff8cf4c4f>\u001b[0m in \u001b[0;36m<module>\u001b[0;34m\u001b[0m\n\u001b[1;32m      9\u001b[0m \u001b[0;31m# Source 1: https://stackoverflow.com/questions/12451431/loading-and-parsing-a-json-file-with-multiple-json-objects\u001b[0m\u001b[0;34m\u001b[0m\u001b[0;34m\u001b[0m\u001b[0;34m\u001b[0m\u001b[0m\n\u001b[1;32m     10\u001b[0m \u001b[0;31m# Source 2: https://jsonlines.org/\u001b[0m\u001b[0;34m\u001b[0m\u001b[0;34m\u001b[0m\u001b[0;34m\u001b[0m\u001b[0m\n\u001b[0;32m---> 11\u001b[0;31m \u001b[0mrecords\u001b[0m \u001b[0;34m=\u001b[0m \u001b[0;34m[\u001b[0m\u001b[0mjson\u001b[0m\u001b[0;34m.\u001b[0m\u001b[0mloads\u001b[0m\u001b[0;34m(\u001b[0m\u001b[0mline\u001b[0m\u001b[0;34m)\u001b[0m \u001b[0;32mfor\u001b[0m \u001b[0mline\u001b[0m \u001b[0;32min\u001b[0m \u001b[0mopen\u001b[0m\u001b[0;34m(\u001b[0m\u001b[0mpath\u001b[0m\u001b[0;34m)\u001b[0m\u001b[0;34m]\u001b[0m\u001b[0;34m\u001b[0m\u001b[0;34m\u001b[0m\u001b[0m\n\u001b[0m\u001b[1;32m     12\u001b[0m \u001b[0;34m\u001b[0m\u001b[0m\n\u001b[1;32m     13\u001b[0m \u001b[0;31m# Get timezones from the records.\u001b[0m\u001b[0;34m\u001b[0m\u001b[0;34m\u001b[0m\u001b[0;34m\u001b[0m\u001b[0m\n",
      "\u001b[0;31mFileNotFoundError\u001b[0m: [Errno 2] No such file or directory: '/home/ruslan/Desktop/Applied_Data_Science_With_Python/Python For Data Analysis/Chapter 2/bitly_usagov/bitly_usagov.txt'"
     ]
    }
   ],
   "source": [
    "%reset -f\n",
    "import json\n",
    "import numpy as np\n",
    "\n",
    "path=\"/home/ruslan/Desktop/Applied_Data_Science_With_Python/Books/Python For Data Analysis/Chapter 2/bitly_usagov/bitly_usagov.txt\"\n",
    "\n",
    "# The file contains JSON lines.\n",
    "# The file needs to be parsed line by line.\n",
    "# Source 1: https://stackoverflow.com/questions/12451431/loading-and-parsing-a-json-file-with-multiple-json-objects\n",
    "# Source 2: https://jsonlines.org/\n",
    "records = [json.loads(line) for line in open(path)]\n",
    "\n",
    "# Get timezones from the records.\n",
    "# Note that not all records have the timezone field\n",
    "\n",
    "list_time_zone = [rec['tz'] for rec in records if 'tz' in rec]                "
   ]
  },
  {
   "cell_type": "markdown",
   "metadata": {},
   "source": [
    "# Dictionary of Time Zone Counts"
   ]
  },
  {
   "cell_type": "code",
   "execution_count": null,
   "metadata": {},
   "outputs": [],
   "source": [
    "# Count the number of time zones using a function\n",
    "# Return a dictionary of timezone:count\n",
    "\n",
    "def count_time_zones(list_time_zone):\n",
    "    \n",
    "    # Initialize a dictionary\n",
    "    dict_time_zone_count = {}\n",
    "    \n",
    "    for i in list_time_zone:\n",
    "        if i in dict_time_zone_count:\n",
    "            \n",
    "            # increment the count if the time zone is in the dictionary already\n",
    "            dict_time_zone_count[i]+=1\n",
    "        else:\n",
    "            \n",
    "            # if not in the dictionary, set the count to 1\n",
    "            dict_time_zone_count[i]=1\n",
    "            \n",
    "    return dict_time_zone_count\n",
    "\n",
    "dict_time_zone_count = count_time_zones(list_time_zone)\n",
    "\n",
    "print(dict_time_zone_count)"
   ]
  },
  {
   "cell_type": "markdown",
   "metadata": {},
   "source": [
    "# First n counts using Pure Python"
   ]
  },
  {
   "cell_type": "code",
   "execution_count": null,
   "metadata": {},
   "outputs": [],
   "source": [
    "# Get top n of the counts\n",
    "\n",
    "def top_n(dict_time_zone_count,n=10):\n",
    "    value_key_pairs = [(count,tz) for tz, count in dict_time_zone_count.items()]\n",
    "    value_key_pairs.sort(reverse=True)\n",
    "    return value_key_pairs[:10]\n",
    "\n",
    "\n",
    "print(top_n(dict_time_zone_count,10))\n",
    "    "
   ]
  },
  {
   "cell_type": "markdown",
   "metadata": {},
   "source": [
    "# First n Counts using Counter from Collections"
   ]
  },
  {
   "cell_type": "code",
   "execution_count": null,
   "metadata": {},
   "outputs": [],
   "source": [
    "# Use counter from Collections.Counter class\n",
    "\n",
    "from collections import Counter\n",
    "\n",
    "time_zone_counts = Counter(list_time_zone)\n",
    "\n",
    "time_zone_counts.most_common(10)"
   ]
  },
  {
   "cell_type": "markdown",
   "metadata": {},
   "source": [
    "# First n Counts using Pandas"
   ]
  },
  {
   "cell_type": "code",
   "execution_count": null,
   "metadata": {},
   "outputs": [],
   "source": [
    "import pandas as pd\n",
    "\n",
    "frame_records = pd.DataFrame(records)\n",
    "\n",
    "time_zone_counts = frame_records['tz'].value_counts()\n",
    "\n",
    "time_zone_counts"
   ]
  },
  {
   "cell_type": "markdown",
   "metadata": {},
   "source": [
    "# Filling the missing and NA values"
   ]
  },
  {
   "cell_type": "code",
   "execution_count": null,
   "metadata": {},
   "outputs": [],
   "source": [
    "clean_time_zone = frame_records['tz'].fillna('Missing')\n",
    "\n",
    "clean_time_zone[clean_time_zone == ''] = 'Unknown'\n",
    "\n",
    "time_zone_counts = clean_time_zone.value_counts()\n",
    "\n",
    "time_zone_counts"
   ]
  },
  {
   "cell_type": "markdown",
   "metadata": {},
   "source": [
    "# Plotting Pandas DataFrame"
   ]
  },
  {
   "cell_type": "code",
   "execution_count": null,
   "metadata": {},
   "outputs": [],
   "source": [
    "time_zone_counts[:10].plot(kind='barh', rot = 0)"
   ]
  },
  {
   "cell_type": "markdown",
   "metadata": {},
   "source": [
    "# Parsing strings to get first words in first indices"
   ]
  },
  {
   "cell_type": "code",
   "execution_count": null,
   "metadata": {},
   "outputs": [],
   "source": [
    "# value_count() can be applied to python Pandas Series\n",
    "list_browser_type = pd.Series([x.split()[0] for x in frame_records[\"a\"].dropna()])\n",
    "print(\"Using Pandas value_count:\",list_browser_type.value_counts())\n",
    "\n",
    "\n",
    "# Alternativelly, the count can be found using the counter from collections\n",
    "list_browser_type = [x.split()[0] for x in frame_records[\"a\"].dropna()]\n",
    "print(\"Count using Counter:\",Counter(list_browser_type))"
   ]
  },
  {
   "cell_type": "markdown",
   "metadata": {},
   "source": [
    "# Search for Windows / Not Windows"
   ]
  },
  {
   "cell_type": "code",
   "execution_count": null,
   "metadata": {},
   "outputs": [],
   "source": [
    "temp_frame_records = frame_records[frame_records['a'].notnull()]\n",
    "operating_system = np.where(temp_frame_records['a'].str.contains('Windows'),'Windows', 'Not Windows')"
   ]
  },
  {
   "cell_type": "markdown",
   "metadata": {},
   "source": [
    "# Group by an unstack the group"
   ]
  },
  {
   "cell_type": "code",
   "execution_count": null,
   "metadata": {},
   "outputs": [],
   "source": [
    "os_by_tz = temp_frame_records.groupby(['tz', operating_system])\n",
    "agg_counts=os_by_tz.size().unstack().fillna(0)\n",
    "agg_counts[0:10]"
   ]
  },
  {
   "cell_type": "code",
   "execution_count": null,
   "metadata": {},
   "outputs": [],
   "source": [
    "# Sort the agg_counts in ascending order using argsort for indirect index\n",
    "indexer=agg_counts.sum(1).argsort()\n",
    "indexer[:10]"
   ]
  },
  {
   "cell_type": "code",
   "execution_count": null,
   "metadata": {},
   "outputs": [],
   "source": [
    "# Get a subset of the counts\n",
    "\n",
    "count_subset = agg_counts.take(indexer)[-10:]\n",
    "count_subset"
   ]
  },
  {
   "cell_type": "code",
   "execution_count": null,
   "metadata": {},
   "outputs": [],
   "source": [
    "# Plot the graph\n",
    "\n",
    "count_subset.plot(kind='barh', stacked=True)"
   ]
  },
  {
   "cell_type": "code",
   "execution_count": null,
   "metadata": {},
   "outputs": [],
   "source": [
    "# Get the proportions for each\n",
    "normed_subset = count_subset.div(count_subset.sum(1), axis=0)\n",
    "normed_subset"
   ]
  },
  {
   "cell_type": "code",
   "execution_count": null,
   "metadata": {},
   "outputs": [],
   "source": [
    "# Plot normalized bar graph\n",
    "\n",
    "normed_subset.plot(kind='barh', stacked=True)"
   ]
  }
 ],
 "metadata": {
  "kernelspec": {
   "display_name": "Python 3",
   "language": "python",
   "name": "python3"
  },
  "language_info": {
   "codemirror_mode": {
    "name": "ipython",
    "version": 3
   },
   "file_extension": ".py",
   "mimetype": "text/x-python",
   "name": "python",
   "nbconvert_exporter": "python",
   "pygments_lexer": "ipython3",
   "version": "3.8.5"
  }
 },
 "nbformat": 4,
 "nbformat_minor": 4
}
