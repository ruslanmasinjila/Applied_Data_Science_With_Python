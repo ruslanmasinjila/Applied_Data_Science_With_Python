{
 "cells": [
  {
   "cell_type": "markdown",
   "metadata": {},
   "source": [
    "# MovieLens\n",
    "\n",
    "## Keywords\n",
    "\n",
    "slicing dataframes, row slicing, data merging, aggregation"
   ]
  },
  {
   "cell_type": "code",
   "execution_count": 2,
   "metadata": {},
   "outputs": [],
   "source": [
    "%reset -f\n",
    "\n",
    "import pandas as pd\n",
    "import numpy as np"
   ]
  },
  {
   "cell_type": "code",
   "execution_count": 3,
   "metadata": {},
   "outputs": [],
   "source": [
    "unames = ['user_id', 'gender', 'age', 'occupation', 'zip']\n",
    "users = pd.read_table('users.dat', sep='::', header=None, names=unames, engine='python')\n",
    "\n",
    "rnames = ['user_id', 'movie_id', 'rating', 'timestamp']\n",
    "ratings = pd.read_table('ratings.dat', sep='::', header=None, names=rnames, engine= 'python')\n",
    "\n",
    "\n",
    "mnames = ['movie_id', 'title', 'genres']\n",
    "movies = pd.read_table('movies.dat', sep='::', header=None, names=mnames, engine = 'python')\n",
    "\n",
    "\n",
    "data = pd.merge(pd.merge(ratings,users),movies)\n",
    "\n"
   ]
  },
  {
   "cell_type": "code",
   "execution_count": null,
   "metadata": {},
   "outputs": [],
   "source": [
    "# Data aggregation\n",
    "\n",
    "# In the example below, the pivot is the 'rating'. The movie title and the gender PIVOT about the rating\n",
    "\n",
    "mean_ratings = pd.pivot_table(data, values = 'rating', index= ['title'], columns = ['gender'], aggfunc = np.mean)\n",
    "\n",
    "mean_ratings"
   ]
  },
  {
   "cell_type": "code",
   "execution_count": null,
   "metadata": {},
   "outputs": [],
   "source": [
    "# Group the data by 'title'\n",
    "\n",
    "ratings_by_title = data.groupby('title').size()\n",
    "\n",
    "\n",
    "# Finds the data where the condition is met, then returns the index at the condition\n",
    "active_titles = ratings_by_title[ratings_by_title>=250].index\n",
    "active_titles"
   ]
  },
  {
   "cell_type": "code",
   "execution_count": null,
   "metadata": {},
   "outputs": [],
   "source": [
    "# loc at index\n",
    "mean_ratings = mean_ratings.loc[active_titles]\n",
    "mean_ratings"
   ]
  },
  {
   "cell_type": "code",
   "execution_count": null,
   "metadata": {},
   "outputs": [],
   "source": [
    "# Sort the mean ratings according to the Female Column\n",
    "\n",
    "top_female_ratings = mean_ratings.sort_values(by='F', ascending = False)\n",
    "top_female_ratings"
   ]
  },
  {
   "cell_type": "code",
   "execution_count": null,
   "metadata": {},
   "outputs": [],
   "source": [
    "# Find the difference of mean ratings between Males and Females\n",
    "# and create a new column for this difference\n",
    "\n",
    "mean_ratings['diff'] = mean_ratings['M'] - mean_ratings['F']\n",
    "\n",
    "mean_ratings\n",
    "\n",
    "mean_ratings_sorted_by_diff =   mean_ratings.sort_values(by = 'diff')\n",
    "\n",
    "mean_ratings_sorted_by_diff"
   ]
  },
  {
   "cell_type": "code",
   "execution_count": null,
   "metadata": {},
   "outputs": [],
   "source": [
    "# Reversing the disagreement\n",
    "\n",
    "mean_ratings_sorted_by_diff[::-1][:15]"
   ]
  },
  {
   "cell_type": "code",
   "execution_count": null,
   "metadata": {},
   "outputs": [],
   "source": [
    "# Disagreement in ratings regardless of gender\n",
    "\n",
    "rating_std_by_title = data.groupby('title')['rating'].std()\n",
    "\n",
    "rating_std_by_title = rating_std_by_title[active_titles]\n",
    "\n",
    "rating_std_by_title.sort_values(ascending = False)"
   ]
  }
 ],
 "metadata": {
  "kernelspec": {
   "display_name": "Python 3",
   "language": "python",
   "name": "python3"
  },
  "language_info": {
   "codemirror_mode": {
    "name": "ipython",
    "version": 3
   },
   "file_extension": ".py",
   "mimetype": "text/x-python",
   "name": "python",
   "nbconvert_exporter": "python",
   "pygments_lexer": "ipython3",
   "version": "3.8.5"
  }
 },
 "nbformat": 4,
 "nbformat_minor": 4
}
