{
 "cells": [
  {
   "cell_type": "markdown",
   "metadata": {},
   "source": [
    "# KEYWORDS\n",
    "\n",
    "String, split, tuples, lists, dictionaries, formatting, datetime, date, timedelta, map function, lambda expressions, list compressions."
   ]
  },
  {
   "cell_type": "markdown",
   "metadata": {},
   "source": [
    "# Keys and Values of the dictionary"
   ]
  },
  {
   "cell_type": "code",
   "execution_count": 16,
   "metadata": {},
   "outputs": [
    {
     "name": "stdout",
     "output_type": "stream",
     "text": [
      "ruslanmasinjila@gmail.com\n",
      "masinjila@un.org\n",
      "ruslanmasinjila@gmail.com\n",
      "masinjila@un.org\n",
      "ruslan ruslanmasinjila@gmail.com\n",
      "hezron masinjila@un.org\n"
     ]
    }
   ],
   "source": [
    "name_email_dictionary = { 'ruslan':'ruslanmasinjila@gmail.com',\n",
    "                          'hezron':'masinjila@un.org'\n",
    "                        }\n",
    "\n",
    "for name in name_email_dictionary:\n",
    "    print(name_email_dictionary[name])\n",
    "\n",
    "for email in name_email_dictionary.values():\n",
    "    print(email)\n",
    "    \n",
    "for name, email in name_email_dictionary.items():\n",
    "    print(name, email)"
   ]
  },
  {
   "cell_type": "markdown",
   "metadata": {},
   "source": [
    "# String Formatting "
   ]
  },
  {
   "cell_type": "code",
   "execution_count": 17,
   "metadata": {},
   "outputs": [
    {
     "name": "stdout",
     "output_type": "stream",
     "text": [
      "3 of milk carton(s) was/were bought on 15/04/2021 at a price of 2.5 USD each for a total of 7.5 USD\n"
     ]
    }
   ],
   "source": [
    "order = {\n",
    "            'item_name': \"milk\",\n",
    "            'packaging': 'carton',\n",
    "            'item_price(USD)': 2.5,\n",
    "            'quantity':  3,\n",
    "            'date(dd/mm/yyyy)': \"15/04/2021\"\n",
    "}\n",
    "\n",
    "to_print = '{} of {} {}(s) was/were bought on {} at a price of {} USD each for a total of {} USD'\n",
    "\n",
    "print(to_print.format(order['quantity'],\n",
    "                      order['item_name'],\n",
    "                      order['packaging'],\n",
    "                      order['date(dd/mm/yyyy)'],\n",
    "                      order['item_price(USD)'],\n",
    "                      order['item_price(USD)']*order['quantity']\n",
    "                      ))"
   ]
  },
  {
   "cell_type": "markdown",
   "metadata": {},
   "source": [
    "# Dates and Times"
   ]
  },
  {
   "cell_type": "code",
   "execution_count": 18,
   "metadata": {},
   "outputs": [
    {
     "data": {
      "text/plain": [
       "datetime.datetime(2021, 4, 16, 17, 20, 49, 860478)"
      ]
     },
     "execution_count": 18,
     "metadata": {},
     "output_type": "execute_result"
    }
   ],
   "source": [
    "import datetime as dt\n",
    "import time as tm\n",
    "\n",
    "now = tm.time()\n",
    "\n",
    "dtnow = dt.datetime.fromtimestamp(now)\n",
    "\n",
    "dtnow"
   ]
  },
  {
   "cell_type": "code",
   "execution_count": 19,
   "metadata": {},
   "outputs": [],
   "source": [
    "delta = dt.timedelta(days=100)\n",
    "\n",
    "today = dt.date.today()"
   ]
  },
  {
   "cell_type": "markdown",
   "metadata": {},
   "source": [
    "# Python Objects and Maps"
   ]
  },
  {
   "cell_type": "code",
   "execution_count": 20,
   "metadata": {},
   "outputs": [],
   "source": [
    "class Person:\n",
    "    department = \"School of Information Technology and Engineering\"\n",
    "    \n",
    "    def set_name(self, new_name):\n",
    "        self.name = new_name\n",
    "    \n",
    "    def set_location(self, new_location):\n",
    "        self.location = new_location"
   ]
  },
  {
   "cell_type": "code",
   "execution_count": 21,
   "metadata": {},
   "outputs": [],
   "source": [
    "#for i in range(10000):\n",
    "#    number = '{:04}'.format(i)\n",
    "#    print(number)"
   ]
  },
  {
   "cell_type": "markdown",
   "metadata": {},
   "source": [
    "# Map in Python"
   ]
  },
  {
   "cell_type": "code",
   "execution_count": 22,
   "metadata": {},
   "outputs": [
    {
     "name": "stdout",
     "output_type": "stream",
     "text": [
      "1\n",
      "3\n"
     ]
    }
   ],
   "source": [
    "items1 = [1,5,3,7,9,2]\n",
    "items2 = [9,5,7,3,6,8]\n",
    "\n",
    "result = map(min,[items1,items2])\n",
    "\n",
    "for i in result:\n",
    "    print(i)\n"
   ]
  },
  {
   "cell_type": "markdown",
   "metadata": {},
   "source": [
    "# Lambda Expressions and List Compressions"
   ]
  },
  {
   "cell_type": "code",
   "execution_count": 23,
   "metadata": {},
   "outputs": [],
   "source": [
    "function = lambda a,b,c : a+b"
   ]
  },
  {
   "cell_type": "code",
   "execution_count": 24,
   "metadata": {},
   "outputs": [
    {
     "name": "stdout",
     "output_type": "stream",
     "text": [
      "[0.01818181818181818, 0.03636363636363636, 0.05454545454545454, 0.07272727272727272, 0.09090909090909091, 0.10909090909090909, 0.12727272727272726, 0.14545454545454545, 0.16363636363636364, 0.18181818181818182]\n",
      "[0.01818181818181818, 0.03636363636363636, 0.05454545454545454, 0.07272727272727272, 0.09090909090909091, 0.10909090909090909, 0.12727272727272726, 0.14545454545454545, 0.16363636363636364, 0.18181818181818182]\n"
     ]
    }
   ],
   "source": [
    "lst = [1,2,3,4,5,6,7,8,9,10]\n",
    "\n",
    "lst_normalized = [x/sum(lst) for x in lst]\n",
    "\n",
    "print(lst_normalized)\n",
    "\n",
    "# Using map and lambda\n",
    "\n",
    "lst_normalized = map(lambda x: x/sum(lst),lst)\n",
    "\n",
    "print(list(lst_normalized))"
   ]
  },
  {
   "cell_type": "code",
   "execution_count": 25,
   "metadata": {},
   "outputs": [
    {
     "name": "stdout",
     "output_type": "stream",
     "text": [
      "True\n",
      "True\n",
      "True\n",
      "True\n"
     ]
    },
    {
     "data": {
      "text/plain": [
       "True"
      ]
     },
     "execution_count": 25,
     "metadata": {},
     "output_type": "execute_result"
    }
   ],
   "source": [
    "# Exercise\n",
    "\n",
    "\n",
    "people = ['Dr. Christopher Brooks', 'Dr. Kevyn Collins-Thompson', 'Dr. VG Vinod Vydiswaran', 'Dr. Daniel Romero']\n",
    "\n",
    "# Normal Function\n",
    "def split_title_and_name(person):\n",
    "    return person.split()[0] + ' ' + person.split()[-1]\n",
    "\n",
    "#option 1\n",
    "# Using Lambda function with input\n",
    "for person in people:\n",
    "    print(split_title_and_name(person) == (lambda x: x.split()[0] + ' ' + x.split()[-1])(person))\n",
    "\n",
    "#option 2\n",
    "# Using map and lambda functions\n",
    "list(map(split_title_and_name, people)) == list(map(lambda person: person.split()[0] + ' ' + person.split()[-1], people))"
   ]
  },
  {
   "cell_type": "code",
   "execution_count": 26,
   "metadata": {},
   "outputs": [
    {
     "data": {
      "text/plain": [
       "True"
      ]
     },
     "execution_count": 26,
     "metadata": {},
     "output_type": "execute_result"
    }
   ],
   "source": [
    "# List compression using two variables\n",
    "\n",
    "def times_tables():\n",
    "    lst = []\n",
    "    for i in range(10):\n",
    "        for j in range (10):\n",
    "            lst.append(i*j)\n",
    "    return lst\n",
    "\n",
    "times_tables() == [j*i for i in range(10) for j in range(10)]"
   ]
  },
  {
   "cell_type": "markdown",
   "metadata": {},
   "source": [
    "# Numpy (Numerical Python Library)"
   ]
  }
 ],
 "metadata": {
  "kernelspec": {
   "display_name": "Python 3",
   "language": "python",
   "name": "python3"
  },
  "language_info": {
   "codemirror_mode": {
    "name": "ipython",
    "version": 3
   },
   "file_extension": ".py",
   "mimetype": "text/x-python",
   "name": "python",
   "nbconvert_exporter": "python",
   "pygments_lexer": "ipython3",
   "version": "3.8.5"
  }
 },
 "nbformat": 4,
 "nbformat_minor": 4
}
