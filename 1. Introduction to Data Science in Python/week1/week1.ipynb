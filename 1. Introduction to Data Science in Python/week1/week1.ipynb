{
 "cells": [
  {
   "cell_type": "markdown",
   "metadata": {},
   "source": [
    "# KEYWORDS\n",
    "\n",
    "String, split, tuples, lists, dictionaries, formatting"
   ]
  },
  {
   "cell_type": "markdown",
   "metadata": {},
   "source": [
    "# Keys and Values of the dictionary"
   ]
  },
  {
   "cell_type": "code",
   "execution_count": 17,
   "metadata": {},
   "outputs": [
    {
     "name": "stdout",
     "output_type": "stream",
     "text": [
      "ruslanmasinjila@gmail.com\n",
      "masinjila@un.org\n",
      "ruslanmasinjila@gmail.com\n",
      "masinjila@un.org\n",
      "ruslan ruslanmasinjila@gmail.com\n",
      "hezron masinjila@un.org\n"
     ]
    }
   ],
   "source": [
    "name_email_dictionary = { 'ruslan':'ruslanmasinjila@gmail.com',\n",
    "                          'hezron':'masinjila@un.org'\n",
    "                        }\n",
    "\n",
    "for name in name_email_dictionary:\n",
    "    print(name_email_dictionary[name])\n",
    "\n",
    "for email in name_email_dictionary.values():\n",
    "    print(email)\n",
    "    \n",
    "for name, email in name_email_dictionary.items():\n",
    "    print(name, email)"
   ]
  },
  {
   "cell_type": "markdown",
   "metadata": {},
   "source": [
    "# String Formatting "
   ]
  },
  {
   "cell_type": "code",
   "execution_count": 19,
   "metadata": {},
   "outputs": [
    {
     "name": "stdout",
     "output_type": "stream",
     "text": [
      "3 of milk carton(s) was/were bought on 15/04/2021 at a price of 2.5 USD each for a total of 7.5 USD\n"
     ]
    }
   ],
   "source": [
    "order = {\n",
    "            'item_name': \"milk\",\n",
    "            'packaging': 'carton',\n",
    "            'item_price(USD)': 2.5,\n",
    "            'quantity':  3,\n",
    "            'date(dd/mm/yyyy)': \"15/04/2021\"\n",
    "}\n",
    "\n",
    "to_print = '{} of {} {}(s) was/were bought on {} at a price of {} USD each for a total of {} USD'\n",
    "\n",
    "print(to_print.format(order['quantity'],\n",
    "                      order['item_name'],\n",
    "                      order['packaging'],\n",
    "                      order['date(dd/mm/yyyy)'],\n",
    "                      order['item_price(USD)'],\n",
    "                      order['item_price(USD)']*order['quantity']\n",
    "                      ))"
   ]
  }
 ],
 "metadata": {
  "kernelspec": {
   "display_name": "Python 3",
   "language": "python",
   "name": "python3"
  },
  "language_info": {
   "codemirror_mode": {
    "name": "ipython",
    "version": 3
   },
   "file_extension": ".py",
   "mimetype": "text/x-python",
   "name": "python",
   "nbconvert_exporter": "python",
   "pygments_lexer": "ipython3",
   "version": "3.8.5"
  }
 },
 "nbformat": 4,
 "nbformat_minor": 4
}
