{
 "cells": [
  {
   "cell_type": "markdown",
   "metadata": {},
   "source": [
    "# KEYWORDS\n",
    "\n",
    "String, split, tuples, lists, dictionaries, formatting, datetime, date, timedelta, map function, lambda expressions, list comprehension."
   ]
  },
  {
   "cell_type": "markdown",
   "metadata": {},
   "source": [
    "# Keys and Values of the dictionary"
   ]
  },
  {
   "cell_type": "code",
   "execution_count": 104,
   "metadata": {},
   "outputs": [
    {
     "name": "stdout",
     "output_type": "stream",
     "text": [
      "ruslanmasinjila@gmail.com\n",
      "masinjila@un.org\n",
      "ruslanmasinjila@gmail.com\n",
      "masinjila@un.org\n",
      "ruslan ruslanmasinjila@gmail.com\n",
      "hezron masinjila@un.org\n"
     ]
    }
   ],
   "source": [
    "name_email_dictionary = { 'ruslan':'ruslanmasinjila@gmail.com',\n",
    "                          'hezron':'masinjila@un.org'\n",
    "                        }\n",
    "\n",
    "for name in name_email_dictionary:\n",
    "    print(name_email_dictionary[name])\n",
    "\n",
    "for email in name_email_dictionary.values():\n",
    "    print(email)\n",
    "    \n",
    "for name, email in name_email_dictionary.items():\n",
    "    print(name, email)"
   ]
  },
  {
   "cell_type": "markdown",
   "metadata": {},
   "source": [
    "# String Formatting "
   ]
  },
  {
   "cell_type": "code",
   "execution_count": 105,
   "metadata": {},
   "outputs": [
    {
     "name": "stdout",
     "output_type": "stream",
     "text": [
      "3 of milk carton(s) was/were bought on 15/04/2021 at a price of 2.5 USD each for a total of 7.5 USD\n"
     ]
    }
   ],
   "source": [
    "order = {\n",
    "            'item_name': \"milk\",\n",
    "            'packaging': 'carton',\n",
    "            'item_price(USD)': 2.5,\n",
    "            'quantity':  3,\n",
    "            'date(dd/mm/yyyy)': \"15/04/2021\"\n",
    "}\n",
    "\n",
    "to_print = '{} of {} {}(s) was/were bought on {} at a price of {} USD each for a total of {} USD'\n",
    "\n",
    "print(to_print.format(order['quantity'],\n",
    "                      order['item_name'],\n",
    "                      order['packaging'],\n",
    "                      order['date(dd/mm/yyyy)'],\n",
    "                      order['item_price(USD)'],\n",
    "                      order['item_price(USD)']*order['quantity']\n",
    "                      ))"
   ]
  },
  {
   "cell_type": "markdown",
   "metadata": {},
   "source": [
    "# Dates and Times"
   ]
  },
  {
   "cell_type": "code",
   "execution_count": 106,
   "metadata": {},
   "outputs": [
    {
     "data": {
      "text/plain": [
       "datetime.datetime(2021, 4, 16, 21, 26, 15, 885854)"
      ]
     },
     "execution_count": 106,
     "metadata": {},
     "output_type": "execute_result"
    }
   ],
   "source": [
    "import datetime as dt\n",
    "import time as tm\n",
    "\n",
    "now = tm.time()\n",
    "\n",
    "dtnow = dt.datetime.fromtimestamp(now)\n",
    "\n",
    "dtnow"
   ]
  },
  {
   "cell_type": "code",
   "execution_count": 107,
   "metadata": {},
   "outputs": [],
   "source": [
    "delta = dt.timedelta(days=100)\n",
    "\n",
    "today = dt.date.today()"
   ]
  },
  {
   "cell_type": "markdown",
   "metadata": {},
   "source": [
    "# Python Objects and Maps"
   ]
  },
  {
   "cell_type": "code",
   "execution_count": 108,
   "metadata": {},
   "outputs": [],
   "source": [
    "class Person:\n",
    "    department = \"School of Information Technology and Engineering\"\n",
    "    \n",
    "    def set_name(self, new_name):\n",
    "        self.name = new_name\n",
    "    \n",
    "    def set_location(self, new_location):\n",
    "        self.location = new_location"
   ]
  },
  {
   "cell_type": "code",
   "execution_count": 109,
   "metadata": {},
   "outputs": [],
   "source": [
    "#for i in range(10000):\n",
    "#    number = '{:04}'.format(i)\n",
    "#    print(number)"
   ]
  },
  {
   "cell_type": "markdown",
   "metadata": {},
   "source": [
    "# Map in Python"
   ]
  },
  {
   "cell_type": "code",
   "execution_count": 110,
   "metadata": {},
   "outputs": [
    {
     "name": "stdout",
     "output_type": "stream",
     "text": [
      "1\n",
      "3\n"
     ]
    }
   ],
   "source": [
    "items1 = [1,5,3,7,9,2]\n",
    "items2 = [9,5,7,3,6,8]\n",
    "\n",
    "result = map(min,[items1,items2])\n",
    "\n",
    "for i in result:\n",
    "    print(i)\n"
   ]
  },
  {
   "cell_type": "markdown",
   "metadata": {},
   "source": [
    "# Lambda Expressions and List Compressions"
   ]
  },
  {
   "cell_type": "code",
   "execution_count": 111,
   "metadata": {},
   "outputs": [],
   "source": [
    "function = lambda a,b,c : a+b"
   ]
  },
  {
   "cell_type": "code",
   "execution_count": 112,
   "metadata": {},
   "outputs": [
    {
     "name": "stdout",
     "output_type": "stream",
     "text": [
      "[0.01818181818181818, 0.03636363636363636, 0.05454545454545454, 0.07272727272727272, 0.09090909090909091, 0.10909090909090909, 0.12727272727272726, 0.14545454545454545, 0.16363636363636364, 0.18181818181818182]\n",
      "[0.01818181818181818, 0.03636363636363636, 0.05454545454545454, 0.07272727272727272, 0.09090909090909091, 0.10909090909090909, 0.12727272727272726, 0.14545454545454545, 0.16363636363636364, 0.18181818181818182]\n"
     ]
    }
   ],
   "source": [
    "lst = [1,2,3,4,5,6,7,8,9,10]\n",
    "\n",
    "lst_normalized = [x/sum(lst) for x in lst]\n",
    "\n",
    "print(lst_normalized)\n",
    "\n",
    "# Using map and lambda\n",
    "\n",
    "lst_normalized = map(lambda x: x/sum(lst),lst)\n",
    "\n",
    "print(list(lst_normalized))"
   ]
  },
  {
   "cell_type": "code",
   "execution_count": 113,
   "metadata": {},
   "outputs": [
    {
     "name": "stdout",
     "output_type": "stream",
     "text": [
      "True\n",
      "True\n",
      "True\n",
      "True\n"
     ]
    },
    {
     "data": {
      "text/plain": [
       "True"
      ]
     },
     "execution_count": 113,
     "metadata": {},
     "output_type": "execute_result"
    }
   ],
   "source": [
    "# Exercise\n",
    "\n",
    "\n",
    "people = ['Dr. Christopher Brooks', 'Dr. Kevyn Collins-Thompson', 'Dr. VG Vinod Vydiswaran', 'Dr. Daniel Romero']\n",
    "\n",
    "# Normal Function\n",
    "def split_title_and_name(person):\n",
    "    return person.split()[0] + ' ' + person.split()[-1]\n",
    "\n",
    "#option 1\n",
    "# Using Lambda function with input\n",
    "for person in people:\n",
    "    print(split_title_and_name(person) == (lambda x: x.split()[0] + ' ' + x.split()[-1])(person))\n",
    "\n",
    "#option 2\n",
    "# Using map and lambda functions\n",
    "list(map(split_title_and_name, people)) == list(map(lambda person: person.split()[0] + ' ' + person.split()[-1], people))"
   ]
  },
  {
   "cell_type": "code",
   "execution_count": 114,
   "metadata": {},
   "outputs": [
    {
     "data": {
      "text/plain": [
       "True"
      ]
     },
     "execution_count": 114,
     "metadata": {},
     "output_type": "execute_result"
    }
   ],
   "source": [
    "# List compression using two variables\n",
    "\n",
    "def times_tables():\n",
    "    lst = []\n",
    "    for i in range(10):\n",
    "        for j in range (10):\n",
    "            lst.append(i*j)\n",
    "    return lst\n",
    "\n",
    "times_tables() == [j*i for i in range(10) for j in range(10)]"
   ]
  },
  {
   "cell_type": "markdown",
   "metadata": {},
   "source": [
    "# Numpy (Numerical Python Library)"
   ]
  },
  {
   "cell_type": "code",
   "execution_count": 115,
   "metadata": {},
   "outputs": [],
   "source": [
    "import numpy as np\n",
    "import math"
   ]
  },
  {
   "cell_type": "markdown",
   "metadata": {},
   "source": [
    "## Array Creation"
   ]
  },
  {
   "cell_type": "code",
   "execution_count": 116,
   "metadata": {},
   "outputs": [
    {
     "name": "stdout",
     "output_type": "stream",
     "text": [
      "[1 2 3 4 5]\n",
      "1\n",
      "[[1 2 3]\n",
      " [4 5 6]]\n",
      "2\n",
      "(2, 3)\n",
      "<class 'numpy.ndarray'>\n",
      "int64\n",
      "float64\n",
      "[10 12 14 16 18 20 22 24 26 28 30 32 34 36 38 40 42 44 46 48]\n",
      "[0.         0.14285714 0.28571429 0.42857143 0.57142857 0.71428571\n",
      " 0.85714286 1.         1.14285714 1.28571429 1.42857143 1.57142857\n",
      " 1.71428571 1.85714286 2.        ]\n"
     ]
    }
   ],
   "source": [
    "# Create a numpy array by passing a list into it\n",
    "a = np.array([1,2,3,4,5])\n",
    "print(a)\n",
    "\n",
    "# Find the dimension of the array using ndim\n",
    "print(a.ndim)\n",
    "\n",
    "\n",
    "# A multidimensional array from a list of lists\n",
    "\n",
    "b = np.array([[1,2,3],[4,5,6]])\n",
    "print(b)\n",
    "print(b.ndim)\n",
    "\n",
    "\n",
    "# Shape gives the leanth of each dimension\n",
    "print(b.shape)\n",
    "\n",
    "\n",
    "# Checking the type of the array\n",
    "print(type(b))\n",
    "\n",
    "# Checking the type of the elements of the array\n",
    "print(b.dtype)\n",
    "\n",
    "# Floats\n",
    "c = np.array([2.2,2.3])\n",
    "print(c.dtype)\n",
    "\n",
    "# Create a numpy array of known shape filled with zeroes or ones\n",
    "d = np.zeros((2,3))\n",
    "\n",
    "# Create numpy array with random elements\n",
    "e = np.random.rand(2,3)\n",
    "\n",
    "# Create a numpy array specified by range and interval, excluding last number\n",
    "d = np.arange(10,50,2)\n",
    "print(d)\n",
    "\n",
    "# Create numpy array with n floats between two numbers, inclusive.\n",
    "f = np.linspace(0,2,15)\n",
    "print(f)"
   ]
  },
  {
   "cell_type": "markdown",
   "metadata": {},
   "source": [
    "# Array Operations"
   ]
  },
  {
   "cell_type": "code",
   "execution_count": 117,
   "metadata": {},
   "outputs": [
    {
     "name": "stdout",
     "output_type": "stream",
     "text": [
      "[ 9 18 27 36]\n",
      "[11 22 33 44]\n",
      "[ 10  40  90 160]\n",
      "[10. 10. 10. 10.]\n",
      "[False  True False  True]\n",
      "300\n",
      "[[1 2 3]\n",
      " [4 5 6]]\n",
      "[[1.2 3.1 4. ]\n",
      " [9.1 8.4 6.7]]\n",
      "[[ 2.2  5.1  7. ]\n",
      " [13.1 13.4 12.7]]\n",
      "float64\n",
      "13.4\n",
      "2.2\n",
      "53.5\n",
      "2.2\n",
      "[[ 1  2  3  4  5]\n",
      " [ 6  7  8  9 10]\n",
      " [11 12 13 14 15]]\n",
      "[18 21 24 27 30]\n",
      "[15 40 65]\n"
     ]
    }
   ],
   "source": [
    "a = np.array([10,20,30,40])\n",
    "b = np.array([1,2,3,4])\n",
    "\n",
    "# Element-wise operations\n",
    "print(a-b)\n",
    "print(a+b)\n",
    "print(a*b)\n",
    "print(a/b)\n",
    "\n",
    "# Boolean Array\n",
    "print(b%2==0)\n",
    "\n",
    "# Matrix manipulation\n",
    "# For dot product, use @ sign\n",
    "print(a@b)\n",
    "\n",
    "\n",
    "array1 = np.array([[1,2,3],[4,5,6]])\n",
    "array2= np.array([[1.2,3.1,4.0],[9.1,8.4,6.7]])\n",
    "\n",
    "print(array1)\n",
    "print(array2)\n",
    "\n",
    "array3 = array1+array2\n",
    "\n",
    "print(array3)\n",
    "print(array3.dtype)\n",
    "\n",
    "print(array3.max())\n",
    "print(array3.min())\n",
    "print(array3.sum())\n",
    "print(array3.min())\n",
    "\n",
    "\n",
    "\n",
    "c = np.arange(1,16,1).reshape(3,5)\n",
    "print(c)\n",
    "\n",
    "# Sum along the columns\n",
    "print(c.sum(axis=0))\n",
    "\n",
    "# Sum along the rows\n",
    "print(c.sum(axis=1))"
   ]
  },
  {
   "cell_type": "code",
   "execution_count": null,
   "metadata": {},
   "outputs": [],
   "source": []
  }
 ],
 "metadata": {
  "kernelspec": {
   "display_name": "Python 3",
   "language": "python",
   "name": "python3"
  },
  "language_info": {
   "codemirror_mode": {
    "name": "ipython",
    "version": 3
   },
   "file_extension": ".py",
   "mimetype": "text/x-python",
   "name": "python",
   "nbconvert_exporter": "python",
   "pygments_lexer": "ipython3",
   "version": "3.8.5"
  }
 },
 "nbformat": 4,
 "nbformat_minor": 4
}
