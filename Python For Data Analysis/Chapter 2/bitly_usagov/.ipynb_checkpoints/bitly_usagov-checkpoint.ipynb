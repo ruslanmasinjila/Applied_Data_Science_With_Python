{
 "cells": [
  {
   "cell_type": "markdown",
   "metadata": {},
   "source": [
    "# Key Words\n",
    "json, reading from file, json lines, dictionary, collections, counter"
   ]
  },
  {
   "cell_type": "code",
   "execution_count": null,
   "metadata": {},
   "outputs": [],
   "source": [
    "import json\n",
    "path=\"/home/ruslan/Desktop/Applied_Data_Science_With_Python/Python For Data Analysis/Chapter 2/bitly_usagov/bitly_usagov.txt\"\n",
    "\n",
    "# The file contains JSON lines.\n",
    "# The file needs to be parsed line by line.\n",
    "# Source 1: https://stackoverflow.com/questions/12451431/loading-and-parsing-a-json-file-with-multiple-json-objects\n",
    "# Source 2: https://jsonlines.org/\n",
    "records = [json.loads(line) for line in open(path)]\n",
    "\n",
    "# Get timezones from the records.\n",
    "# Note that not all records have the timezone field\n",
    "\n",
    "list_time_zone = [rec['tz'] for rec in records if 'tz' in rec]\n",
    "\n",
    "\n",
    "                "
   ]
  },
  {
   "cell_type": "code",
   "execution_count": null,
   "metadata": {},
   "outputs": [],
   "source": [
    "# Count the number of time zones using a function\n",
    "\n",
    "def count_time_zones(list_time_zones):\n",
    "    \n",
    "    # Initialize a dictionary\n",
    "    dict_time_zone_count = {}\n",
    "    \n",
    "    for i in time_zones:\n",
    "        if i in dict_time_zone_count:\n",
    "            \n",
    "            # increment the count if the time zone is in the dictionary already\n",
    "            dict_time_zone_count[i]+=1\n",
    "        else:\n",
    "            \n",
    "            # if not in the dictionary, set the count to 1\n",
    "            dict_time_zone_count[i]=1\n",
    "            \n",
    "    return dict_time_zone_count\n",
    "\n",
    "dict_time_zone_count = count_time_zones(list_time_zone)\n",
    "\n",
    "print(dict_time_zone_count)"
   ]
  },
  {
   "cell_type": "code",
   "execution_count": null,
   "metadata": {},
   "outputs": [],
   "source": [
    "# Get top n of the counts\n",
    "\n",
    "def top_n(dict_time_zone_count,n=10):\n",
    "    value_key_pairs = [(count,tz) for tz, count in dict_time_zone_count.items()]\n",
    "    value_key_pairs.sort(reverse=True)\n",
    "    return value_key_pairs[:10]\n",
    "\n",
    "\n",
    "print(top_n(dict_time_zone_count,10))\n",
    "    "
   ]
  }
 ],
 "metadata": {
  "kernelspec": {
   "display_name": "Python 3",
   "language": "python",
   "name": "python3"
  },
  "language_info": {
   "codemirror_mode": {
    "name": "ipython",
    "version": 3
   },
   "file_extension": ".py",
   "mimetype": "text/x-python",
   "name": "python",
   "nbconvert_exporter": "python",
   "pygments_lexer": "ipython3",
   "version": "3.8.5"
  }
 },
 "nbformat": 4,
 "nbformat_minor": 4
}
