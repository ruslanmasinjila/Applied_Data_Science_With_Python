{
 "cells": [
  {
   "cell_type": "markdown",
   "metadata": {},
   "source": [
    "# Key Words\n",
    "json, reading from file, json lines, dictionary, collections, counter, dictionary items, pandas counting, filling in mising values, horizontal bar plots"
   ]
  },
  {
   "cell_type": "markdown",
   "metadata": {},
   "source": [
    "# Reading JSON Lines"
   ]
  },
  {
   "cell_type": "code",
   "execution_count": 13,
   "metadata": {},
   "outputs": [],
   "source": [
    "%reset -f\n",
    "import json\n",
    "\n",
    "path=\"/home/ruslan/Desktop/Applied_Data_Science_With_Python/Python For Data Analysis/Chapter 2/bitly_usagov/bitly_usagov.txt\"\n",
    "\n",
    "# The file contains JSON lines.\n",
    "# The file needs to be parsed line by line.\n",
    "# Source 1: https://stackoverflow.com/questions/12451431/loading-and-parsing-a-json-file-with-multiple-json-objects\n",
    "# Source 2: https://jsonlines.org/\n",
    "records = [json.loads(line) for line in open(path)]\n",
    "\n",
    "# Get timezones from the records.\n",
    "# Note that not all records have the timezone field\n",
    "\n",
    "list_time_zone = [rec['tz'] for rec in records if 'tz' in rec]                "
   ]
  },
  {
   "cell_type": "markdown",
   "metadata": {},
   "source": [
    "# Dictionary of Time Zone Counts"
   ]
  },
  {
   "cell_type": "code",
   "execution_count": 14,
   "metadata": {},
   "outputs": [
    {
     "name": "stdout",
     "output_type": "stream",
     "text": [
      "{'America/New_York': 1251, 'America/Denver': 191, 'America/Sao_Paulo': 33, 'Europe/Warsaw': 16, '': 521, 'America/Los_Angeles': 382, 'Asia/Hong_Kong': 10, 'Europe/Rome': 27, 'Africa/Ceuta': 2, 'Europe/Madrid': 35, 'Asia/Kuala_Lumpur': 3, 'Asia/Nicosia': 1, 'Europe/London': 74, 'Pacific/Honolulu': 36, 'America/Chicago': 400, 'Europe/Malta': 2, 'Europe/Lisbon': 8, 'Europe/Paris': 14, 'Europe/Copenhagen': 5, 'America/Mazatlan': 1, 'Europe/Dublin': 3, 'Europe/Brussels': 4, 'America/Vancouver': 12, 'Europe/Amsterdam': 22, 'Europe/Prague': 10, 'Europe/Stockholm': 14, 'America/Anchorage': 5, 'Asia/Bangkok': 6, 'Europe/Berlin': 28, 'America/Rainy_River': 25, 'Europe/Budapest': 5, 'Asia/Tokyo': 37, 'Europe/Vienna': 6, 'America/Phoenix': 20, 'Asia/Jerusalem': 3, 'Asia/Karachi': 3, 'America/Bogota': 3, 'America/Indianapolis': 20, 'America/Montreal': 9, 'Asia/Calcutta': 9, 'Europe/Skopje': 1, 'Asia/Beirut': 4, 'Australia/NSW': 6, 'Chile/Continental': 6, 'America/Halifax': 4, 'America/Edmonton': 6, 'Europe/Bratislava': 3, 'America/Recife': 2, 'Africa/Cairo': 3, 'Asia/Istanbul': 9, 'Asia/Novosibirsk': 1, 'Europe/Moscow': 10, 'Europe/Sofia': 1, 'Europe/Ljubljana': 1, 'America/Mexico_City': 15, 'Europe/Helsinki': 10, 'Europe/Bucharest': 4, 'Europe/Zurich': 4, 'America/Puerto_Rico': 10, 'America/Monterrey': 1, 'Europe/Athens': 6, 'America/Winnipeg': 4, 'Europe/Riga': 2, 'America/Argentina/Buenos_Aires': 1, 'Asia/Dubai': 4, 'Europe/Oslo': 10, 'Asia/Yekaterinburg': 1, 'Asia/Manila': 1, 'America/Caracas': 1, 'Asia/Riyadh': 1, 'America/Montevideo': 1, 'America/Argentina/Mendoza': 1, 'Asia/Seoul': 5, 'Europe/Uzhgorod': 1, 'Australia/Queensland': 1, 'Europe/Belgrade': 2, 'America/Costa_Rica': 1, 'America/Lima': 1, 'Asia/Pontianak': 1, 'America/Chihuahua': 2, 'Europe/Vilnius': 2, 'America/Managua': 3, 'Africa/Lusaka': 1, 'America/Guayaquil': 2, 'Asia/Harbin': 3, 'Asia/Amman': 2, 'Africa/Johannesburg': 1, 'America/St_Kitts': 1, 'Pacific/Auckland': 11, 'America/Santo_Domingo': 1, 'America/Argentina/Cordoba': 1, 'Asia/Kuching': 1, 'Europe/Volgograd': 1, 'America/La_Paz': 1, 'Africa/Casablanca': 1, 'Asia/Jakarta': 3, 'America/Tegucigalpa': 1}\n"
     ]
    }
   ],
   "source": [
    "# Count the number of time zones using a function\n",
    "# Return a dictionary of timezone:count\n",
    "\n",
    "def count_time_zones(list_time_zone):\n",
    "    \n",
    "    # Initialize a dictionary\n",
    "    dict_time_zone_count = {}\n",
    "    \n",
    "    for i in list_time_zone:\n",
    "        if i in dict_time_zone_count:\n",
    "            \n",
    "            # increment the count if the time zone is in the dictionary already\n",
    "            dict_time_zone_count[i]+=1\n",
    "        else:\n",
    "            \n",
    "            # if not in the dictionary, set the count to 1\n",
    "            dict_time_zone_count[i]=1\n",
    "            \n",
    "    return dict_time_zone_count\n",
    "\n",
    "dict_time_zone_count = count_time_zones(list_time_zone)\n",
    "\n",
    "print(dict_time_zone_count)"
   ]
  },
  {
   "cell_type": "markdown",
   "metadata": {},
   "source": [
    "# First n counts using Pure Python"
   ]
  },
  {
   "cell_type": "code",
   "execution_count": 15,
   "metadata": {},
   "outputs": [
    {
     "name": "stdout",
     "output_type": "stream",
     "text": [
      "[(1251, 'America/New_York'), (521, ''), (400, 'America/Chicago'), (382, 'America/Los_Angeles'), (191, 'America/Denver'), (74, 'Europe/London'), (37, 'Asia/Tokyo'), (36, 'Pacific/Honolulu'), (35, 'Europe/Madrid'), (33, 'America/Sao_Paulo')]\n"
     ]
    }
   ],
   "source": [
    "# Get top n of the counts\n",
    "\n",
    "def top_n(dict_time_zone_count,n=10):\n",
    "    value_key_pairs = [(count,tz) for tz, count in dict_time_zone_count.items()]\n",
    "    value_key_pairs.sort(reverse=True)\n",
    "    return value_key_pairs[:10]\n",
    "\n",
    "\n",
    "print(top_n(dict_time_zone_count,10))\n",
    "    "
   ]
  },
  {
   "cell_type": "markdown",
   "metadata": {},
   "source": [
    "# First n Counts using Counter from Collections"
   ]
  },
  {
   "cell_type": "code",
   "execution_count": 16,
   "metadata": {},
   "outputs": [
    {
     "data": {
      "text/plain": [
       "[('America/New_York', 1251),\n",
       " ('', 521),\n",
       " ('America/Chicago', 400),\n",
       " ('America/Los_Angeles', 382),\n",
       " ('America/Denver', 191),\n",
       " ('Europe/London', 74),\n",
       " ('Asia/Tokyo', 37),\n",
       " ('Pacific/Honolulu', 36),\n",
       " ('Europe/Madrid', 35),\n",
       " ('America/Sao_Paulo', 33)]"
      ]
     },
     "execution_count": 16,
     "metadata": {},
     "output_type": "execute_result"
    }
   ],
   "source": [
    "# Use counter from Collections.Counter class\n",
    "\n",
    "from collections import Counter\n",
    "\n",
    "time_zone_counts = Counter(list_time_zone)\n",
    "\n",
    "time_zone_counts.most_common(10)"
   ]
  },
  {
   "cell_type": "markdown",
   "metadata": {},
   "source": [
    "# First n Counts using Pandas"
   ]
  },
  {
   "cell_type": "code",
   "execution_count": 17,
   "metadata": {},
   "outputs": [
    {
     "data": {
      "text/plain": [
       "America/New_York             1251\n",
       "                              521\n",
       "America/Chicago               400\n",
       "America/Los_Angeles           382\n",
       "America/Denver                191\n",
       "                             ... \n",
       "America/St_Kitts                1\n",
       "America/Tegucigalpa             1\n",
       "Africa/Lusaka                   1\n",
       "America/Argentina/Cordoba       1\n",
       "America/La_Paz                  1\n",
       "Name: tz, Length: 97, dtype: int64"
      ]
     },
     "execution_count": 17,
     "metadata": {},
     "output_type": "execute_result"
    }
   ],
   "source": [
    "import pandas as pd\n",
    "\n",
    "frame_records = pd.DataFrame(records)\n",
    "\n",
    "time_zone_counts = frame_records['tz'].value_counts()\n",
    "\n",
    "time_zone_counts"
   ]
  },
  {
   "cell_type": "markdown",
   "metadata": {},
   "source": [
    "# Filling the missing and NA values"
   ]
  },
  {
   "cell_type": "code",
   "execution_count": 18,
   "metadata": {},
   "outputs": [
    {
     "data": {
      "text/plain": [
       "America/New_York             1251\n",
       "Unknown                       521\n",
       "America/Chicago               400\n",
       "America/Los_Angeles           382\n",
       "America/Denver                191\n",
       "                             ... \n",
       "Africa/Casablanca               1\n",
       "America/Argentina/Cordoba       1\n",
       "America/Monterrey               1\n",
       "Europe/Volgograd                1\n",
       "America/La_Paz                  1\n",
       "Name: tz, Length: 98, dtype: int64"
      ]
     },
     "execution_count": 18,
     "metadata": {},
     "output_type": "execute_result"
    }
   ],
   "source": [
    "clean_time_zone = frame_records['tz'].fillna('Missing')\n",
    "\n",
    "clean_time_zone[clean_time_zone == ''] = 'Unknown'\n",
    "\n",
    "time_zone_counts = clean_time_zone.value_counts()\n",
    "\n",
    "time_zone_counts"
   ]
  }
 ],
 "metadata": {
  "kernelspec": {
   "display_name": "Python 3",
   "language": "python",
   "name": "python3"
  },
  "language_info": {
   "codemirror_mode": {
    "name": "ipython",
    "version": 3
   },
   "file_extension": ".py",
   "mimetype": "text/x-python",
   "name": "python",
   "nbconvert_exporter": "python",
   "pygments_lexer": "ipython3",
   "version": "3.8.5"
  }
 },
 "nbformat": 4,
 "nbformat_minor": 4
}
