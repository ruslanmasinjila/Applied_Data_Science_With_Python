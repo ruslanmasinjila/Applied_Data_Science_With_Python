{
 "cells": [
  {
   "cell_type": "markdown",
   "metadata": {},
   "source": [
    "# Key Words\n",
    "json, reading from file, json lines, dictionary, collections, counter, dictionary items, pandas counting, filling in mising values, horizontal bar plots, groupby()"
   ]
  },
  {
   "cell_type": "markdown",
   "metadata": {},
   "source": [
    "# Reading JSON Lines"
   ]
  },
  {
   "cell_type": "code",
   "execution_count": 110,
   "metadata": {},
   "outputs": [],
   "source": [
    "%reset -f\n",
    "import json\n",
    "import numpy as np\n",
    "\n",
    "path=\"/home/ruslan/Desktop/Applied_Data_Science_With_Python/Python For Data Analysis/Chapter 2/bitly_usagov/bitly_usagov.txt\"\n",
    "\n",
    "# The file contains JSON lines.\n",
    "# The file needs to be parsed line by line.\n",
    "# Source 1: https://stackoverflow.com/questions/12451431/loading-and-parsing-a-json-file-with-multiple-json-objects\n",
    "# Source 2: https://jsonlines.org/\n",
    "records = [json.loads(line) for line in open(path)]\n",
    "\n",
    "# Get timezones from the records.\n",
    "# Note that not all records have the timezone field\n",
    "\n",
    "list_time_zone = [rec['tz'] for rec in records if 'tz' in rec]                "
   ]
  },
  {
   "cell_type": "markdown",
   "metadata": {},
   "source": [
    "# Dictionary of Time Zone Counts"
   ]
  },
  {
   "cell_type": "code",
   "execution_count": 111,
   "metadata": {},
   "outputs": [
    {
     "name": "stdout",
     "output_type": "stream",
     "text": [
      "{'America/New_York': 1251, 'America/Denver': 191, 'America/Sao_Paulo': 33, 'Europe/Warsaw': 16, '': 521, 'America/Los_Angeles': 382, 'Asia/Hong_Kong': 10, 'Europe/Rome': 27, 'Africa/Ceuta': 2, 'Europe/Madrid': 35, 'Asia/Kuala_Lumpur': 3, 'Asia/Nicosia': 1, 'Europe/London': 74, 'Pacific/Honolulu': 36, 'America/Chicago': 400, 'Europe/Malta': 2, 'Europe/Lisbon': 8, 'Europe/Paris': 14, 'Europe/Copenhagen': 5, 'America/Mazatlan': 1, 'Europe/Dublin': 3, 'Europe/Brussels': 4, 'America/Vancouver': 12, 'Europe/Amsterdam': 22, 'Europe/Prague': 10, 'Europe/Stockholm': 14, 'America/Anchorage': 5, 'Asia/Bangkok': 6, 'Europe/Berlin': 28, 'America/Rainy_River': 25, 'Europe/Budapest': 5, 'Asia/Tokyo': 37, 'Europe/Vienna': 6, 'America/Phoenix': 20, 'Asia/Jerusalem': 3, 'Asia/Karachi': 3, 'America/Bogota': 3, 'America/Indianapolis': 20, 'America/Montreal': 9, 'Asia/Calcutta': 9, 'Europe/Skopje': 1, 'Asia/Beirut': 4, 'Australia/NSW': 6, 'Chile/Continental': 6, 'America/Halifax': 4, 'America/Edmonton': 6, 'Europe/Bratislava': 3, 'America/Recife': 2, 'Africa/Cairo': 3, 'Asia/Istanbul': 9, 'Asia/Novosibirsk': 1, 'Europe/Moscow': 10, 'Europe/Sofia': 1, 'Europe/Ljubljana': 1, 'America/Mexico_City': 15, 'Europe/Helsinki': 10, 'Europe/Bucharest': 4, 'Europe/Zurich': 4, 'America/Puerto_Rico': 10, 'America/Monterrey': 1, 'Europe/Athens': 6, 'America/Winnipeg': 4, 'Europe/Riga': 2, 'America/Argentina/Buenos_Aires': 1, 'Asia/Dubai': 4, 'Europe/Oslo': 10, 'Asia/Yekaterinburg': 1, 'Asia/Manila': 1, 'America/Caracas': 1, 'Asia/Riyadh': 1, 'America/Montevideo': 1, 'America/Argentina/Mendoza': 1, 'Asia/Seoul': 5, 'Europe/Uzhgorod': 1, 'Australia/Queensland': 1, 'Europe/Belgrade': 2, 'America/Costa_Rica': 1, 'America/Lima': 1, 'Asia/Pontianak': 1, 'America/Chihuahua': 2, 'Europe/Vilnius': 2, 'America/Managua': 3, 'Africa/Lusaka': 1, 'America/Guayaquil': 2, 'Asia/Harbin': 3, 'Asia/Amman': 2, 'Africa/Johannesburg': 1, 'America/St_Kitts': 1, 'Pacific/Auckland': 11, 'America/Santo_Domingo': 1, 'America/Argentina/Cordoba': 1, 'Asia/Kuching': 1, 'Europe/Volgograd': 1, 'America/La_Paz': 1, 'Africa/Casablanca': 1, 'Asia/Jakarta': 3, 'America/Tegucigalpa': 1}\n"
     ]
    }
   ],
   "source": [
    "# Count the number of time zones using a function\n",
    "# Return a dictionary of timezone:count\n",
    "\n",
    "def count_time_zones(list_time_zone):\n",
    "    \n",
    "    # Initialize a dictionary\n",
    "    dict_time_zone_count = {}\n",
    "    \n",
    "    for i in list_time_zone:\n",
    "        if i in dict_time_zone_count:\n",
    "            \n",
    "            # increment the count if the time zone is in the dictionary already\n",
    "            dict_time_zone_count[i]+=1\n",
    "        else:\n",
    "            \n",
    "            # if not in the dictionary, set the count to 1\n",
    "            dict_time_zone_count[i]=1\n",
    "            \n",
    "    return dict_time_zone_count\n",
    "\n",
    "dict_time_zone_count = count_time_zones(list_time_zone)\n",
    "\n",
    "print(dict_time_zone_count)"
   ]
  },
  {
   "cell_type": "markdown",
   "metadata": {},
   "source": [
    "# First n counts using Pure Python"
   ]
  },
  {
   "cell_type": "code",
   "execution_count": 112,
   "metadata": {},
   "outputs": [
    {
     "name": "stdout",
     "output_type": "stream",
     "text": [
      "[(1251, 'America/New_York'), (521, ''), (400, 'America/Chicago'), (382, 'America/Los_Angeles'), (191, 'America/Denver'), (74, 'Europe/London'), (37, 'Asia/Tokyo'), (36, 'Pacific/Honolulu'), (35, 'Europe/Madrid'), (33, 'America/Sao_Paulo')]\n"
     ]
    }
   ],
   "source": [
    "# Get top n of the counts\n",
    "\n",
    "def top_n(dict_time_zone_count,n=10):\n",
    "    value_key_pairs = [(count,tz) for tz, count in dict_time_zone_count.items()]\n",
    "    value_key_pairs.sort(reverse=True)\n",
    "    return value_key_pairs[:10]\n",
    "\n",
    "\n",
    "print(top_n(dict_time_zone_count,10))\n",
    "    "
   ]
  },
  {
   "cell_type": "markdown",
   "metadata": {},
   "source": [
    "# First n Counts using Counter from Collections"
   ]
  },
  {
   "cell_type": "code",
   "execution_count": 113,
   "metadata": {},
   "outputs": [
    {
     "data": {
      "text/plain": [
       "[('America/New_York', 1251),\n",
       " ('', 521),\n",
       " ('America/Chicago', 400),\n",
       " ('America/Los_Angeles', 382),\n",
       " ('America/Denver', 191),\n",
       " ('Europe/London', 74),\n",
       " ('Asia/Tokyo', 37),\n",
       " ('Pacific/Honolulu', 36),\n",
       " ('Europe/Madrid', 35),\n",
       " ('America/Sao_Paulo', 33)]"
      ]
     },
     "execution_count": 113,
     "metadata": {},
     "output_type": "execute_result"
    }
   ],
   "source": [
    "# Use counter from Collections.Counter class\n",
    "\n",
    "from collections import Counter\n",
    "\n",
    "time_zone_counts = Counter(list_time_zone)\n",
    "\n",
    "time_zone_counts.most_common(10)"
   ]
  },
  {
   "cell_type": "markdown",
   "metadata": {},
   "source": [
    "# First n Counts using Pandas"
   ]
  },
  {
   "cell_type": "code",
   "execution_count": 114,
   "metadata": {},
   "outputs": [
    {
     "data": {
      "text/plain": [
       "America/New_York                  1251\n",
       "                                   521\n",
       "America/Chicago                    400\n",
       "America/Los_Angeles                382\n",
       "America/Denver                     191\n",
       "                                  ... \n",
       "Asia/Nicosia                         1\n",
       "Europe/Uzhgorod                      1\n",
       "America/Argentina/Buenos_Aires       1\n",
       "America/Argentina/Mendoza            1\n",
       "Asia/Riyadh                          1\n",
       "Name: tz, Length: 97, dtype: int64"
      ]
     },
     "execution_count": 114,
     "metadata": {},
     "output_type": "execute_result"
    }
   ],
   "source": [
    "import pandas as pd\n",
    "\n",
    "frame_records = pd.DataFrame(records)\n",
    "\n",
    "time_zone_counts = frame_records['tz'].value_counts()\n",
    "\n",
    "time_zone_counts"
   ]
  },
  {
   "cell_type": "markdown",
   "metadata": {},
   "source": [
    "# Filling the missing and NA values"
   ]
  },
  {
   "cell_type": "code",
   "execution_count": 115,
   "metadata": {},
   "outputs": [
    {
     "data": {
      "text/plain": [
       "America/New_York                  1251\n",
       "Unknown                            521\n",
       "America/Chicago                    400\n",
       "America/Los_Angeles                382\n",
       "America/Denver                     191\n",
       "                                  ... \n",
       "Asia/Nicosia                         1\n",
       "Europe/Uzhgorod                      1\n",
       "America/Argentina/Buenos_Aires       1\n",
       "America/Argentina/Mendoza            1\n",
       "Asia/Riyadh                          1\n",
       "Name: tz, Length: 98, dtype: int64"
      ]
     },
     "execution_count": 115,
     "metadata": {},
     "output_type": "execute_result"
    }
   ],
   "source": [
    "clean_time_zone = frame_records['tz'].fillna('Missing')\n",
    "\n",
    "clean_time_zone[clean_time_zone == ''] = 'Unknown'\n",
    "\n",
    "time_zone_counts = clean_time_zone.value_counts()\n",
    "\n",
    "time_zone_counts"
   ]
  },
  {
   "cell_type": "markdown",
   "metadata": {},
   "source": [
    "# Plotting Pandas DataFrame"
   ]
  },
  {
   "cell_type": "code",
   "execution_count": 116,
   "metadata": {},
   "outputs": [
    {
     "data": {
      "text/plain": [
       "<AxesSubplot:>"
      ]
     },
     "execution_count": 116,
     "metadata": {},
     "output_type": "execute_result"
    },
    {
     "data": {
      "image/png": "[encoded data removed]",
      "text/plain": [
       "<Figure size 432x288 with 1 Axes>"
      ]
     },
     "metadata": {
      "needs_background": "light"
     },
     "output_type": "display_data"
    }
   ],
   "source": [
    "time_zone_counts[:10].plot(kind='barh', rot = 0)"
   ]
  },
  {
   "cell_type": "markdown",
   "metadata": {},
   "source": [
    "# Parsing strings to get first words in first indices"
   ]
  },
  {
   "cell_type": "code",
   "execution_count": 117,
   "metadata": {},
   "outputs": [
    {
     "name": "stdout",
     "output_type": "stream",
     "text": [
      "Using Pandas value_count: Mozilla/5.0                                          2594\n",
      "Mozilla/4.0                                           601\n",
      "GoogleMaps/RochesterNY                                121\n",
      "Opera/9.80                                             34\n",
      "TEST_INTERNET_AGENT                                    24\n",
      "GoogleProducer                                         21\n",
      "Mozilla/6.0                                             5\n",
      "BlackBerry8520/5.0.0.681                                4\n",
      "BlackBerry8520/5.0.0.592                                3\n",
      "Dalvik/1.4.0                                            3\n",
      "Socialite/7766                                          2\n",
      "BlackBerry9630/5.0.0.975                                2\n",
      "Acoon                                                   2\n",
      "Goldfire                                                2\n",
      "LG-LG220C[TF268435458416597116000000013524223841]       1\n",
      "NokiaC3-00/5.0                                          1\n",
      "Opera/9.64(Windows                                      1\n",
      "BlackBerry9700/5.0.0.862                                1\n",
      "sometrik.com                                            1\n",
      "Vodafone/1.0/LG-KU990i/V10c                             1\n",
      "Vancouver                                               1\n",
      "Nokia6790s-1b/ATT.03.22                                 1\n",
      "ICE                                                     1\n",
      "MOT-MB525/Blur_Version.34.4.709.MB525.Latam.en.01       1\n",
      "Opera/9.30                                              1\n",
      "HTTP_Request2/2.0.0                                     1\n",
      "BlackBerry9300/5.0.0.997                                1\n",
      "BlackBerry8530/5.0.0.654                                1\n",
      "Mozilla/0.6                                             1\n",
      "BlackBerry9530/5.0.0.328                                1\n",
      "Opera/9.00                                              1\n",
      "BlackBerry9700/5.0.0.423                                1\n",
      "Opera/9.50                                              1\n",
      "LG-GW382f/V10d                                          1\n",
      "BlackBerry8520/5.0.0.1067                               1\n",
      "SAMSUNG-SGH-A887/A887UCIJ1                              1\n",
      "dtype: int64\n",
      "Count using Counter: Counter({'Mozilla/5.0': 2594, 'Mozilla/4.0': 601, 'GoogleMaps/RochesterNY': 121, 'Opera/9.80': 34, 'TEST_INTERNET_AGENT': 24, 'GoogleProducer': 21, 'Mozilla/6.0': 5, 'BlackBerry8520/5.0.0.681': 4, 'BlackBerry8520/5.0.0.592': 3, 'Dalvik/1.4.0': 3, 'BlackBerry9630/5.0.0.975': 2, 'Goldfire': 2, 'Acoon': 2, 'Socialite/7766': 2, 'NokiaC3-00/5.0': 1, 'BlackBerry8520/5.0.0.1067': 1, 'BlackBerry9530/5.0.0.328': 1, 'SAMSUNG-SGH-A887/A887UCIJ1': 1, 'Nokia6790s-1b/ATT.03.22': 1, 'BlackBerry9300/5.0.0.997': 1, 'LG-LG220C[TF268435458416597116000000013524223841]': 1, 'Opera/9.50': 1, 'Opera/9.30': 1, 'BlackBerry9700/5.0.0.423': 1, 'ICE': 1, 'HTTP_Request2/2.0.0': 1, 'LG-GW382f/V10d': 1, 'sometrik.com': 1, 'Vodafone/1.0/LG-KU990i/V10c': 1, 'Vancouver': 1, 'BlackBerry8530/5.0.0.654': 1, 'Opera/9.00': 1, 'Opera/9.64(Windows': 1, 'Mozilla/0.6': 1, 'MOT-MB525/Blur_Version.34.4.709.MB525.Latam.en.01': 1, 'BlackBerry9700/5.0.0.862': 1})\n"
     ]
    }
   ],
   "source": [
    "# value_count() can be applied to python Pandas Series\n",
    "list_browser_type = pd.Series([x.split()[0] for x in frame_records[\"a\"].dropna()])\n",
    "print(\"Using Pandas value_count:\",list_browser_type.value_counts())\n",
    "\n",
    "\n",
    "# Alternativelly, the count can be found using the counter from collections\n",
    "list_browser_type = [x.split()[0] for x in frame_records[\"a\"].dropna()]\n",
    "print(\"Count using Counter:\",Counter(list_browser_type))"
   ]
  },
  {
   "cell_type": "markdown",
   "metadata": {},
   "source": [
    "# Search for Windows / Not Windows"
   ]
  },
  {
   "cell_type": "code",
   "execution_count": 118,
   "metadata": {},
   "outputs": [],
   "source": [
    "temp_frame_records = frame_records[frame_records['a'].notnull()]\n",
    "operating_system = np.where(temp_frame_records['a'].str.contains('Windows'),'Windows', 'Not Windows')"
   ]
  },
  {
   "cell_type": "markdown",
   "metadata": {},
   "source": [
    "# Group by"
   ]
  },
  {
   "cell_type": "code",
   "execution_count": 119,
   "metadata": {},
   "outputs": [
    {
     "name": "stdout",
     "output_type": "stream",
     "text": [
      "{('', 'Not Windows'): [8, 28, 29, 46, 57, 71, 75, 83, 87, 118, 119, 208, 250, 252, 296, 304, 326, 332, 340, 350, 358, 359, 363, 364, 370, 372, 374, 382, 385, 388, 426, 439, 462, 471, 478, 486, 494, 500, 520, 521, 533, 537, 544, 553, 592, 595, 597, 600, 603, 624, 645, 646, 671, 693, 711, 723, 727, 734, 743, 760, 780, 783, 818, 851, 857, 870, 890, 900, 910, 947, 956, 964, 1017, 1019, 1043, 1071, 1079, 1096, 1143, 1147, 1163, 1175, 1181, 1188, 1225, 1234, 1249, 1264, 1276, 1282, 1288, 1301, 1304, 1314, 1316, 1317, 1318, 1330, 1338, 1348, ...], ('', 'Windows'): [7, 9, 34, 35, 37, 47, 53, 66, 84, 94, 105, 129, 152, 158, 169, 170, 173, 175, 181, 182, 187, 202, 215, 233, 255, 257, 264, 313, 352, 371, 378, 380, 381, 393, 403, 408, 474, 475, 508, 516, 524, 532, 538, 554, 581, 598, 608, 617, 618, 621, 631, 644, 648, 663, 668, 699, 704, 740, 765, 769, 775, 806, 808, 826, 844, 845, 846, 849, 854, 855, 867, 869, 893, 895, 897, 916, 917, 919, 931, 939, 944, 959, 960, 966, 993, 1035, 1056, 1085, 1091, 1094, 1101, 1102, 1121, 1166, 1172, 1174, 1177, 1193, 1201, 1212, ...], ('Africa/Cairo', 'Windows'): [467, 610, 1153], ('Africa/Casablanca', 'Windows'): [3130], ('Africa/Ceuta', 'Windows'): [20, 3009], ('Africa/Johannesburg', 'Windows'): [2245], ('Africa/Lusaka', 'Windows'): [1852], ('America/Anchorage', 'Not Windows'): [176, 1018, 3107, 3445], ('America/Anchorage', 'Windows'): [111], ('America/Argentina/Buenos_Aires', 'Not Windows'): [1004], ('America/Argentina/Cordoba', 'Windows'): [2452], ('America/Argentina/Mendoza', 'Windows'): [1418], ('America/Bogota', 'Not Windows'): [1545], ('America/Bogota', 'Windows'): [231, 606], ('America/Caracas', 'Windows'): [1390], ('America/Chicago', 'Not Windows'): [33, 79, 159, 248, 249, 265, 308, 342, 366, 368, 402, 407, 437, 484, 485, 492, 567, 587, 588, 636, 687, 700, 738, 774, 842, 908, 913, 1024, 1040, 1062, 1074, 1099, 1118, 1205, 1220, 1268, 1299, 1339, 1374, 1377, 1402, 1404, 1439, 1467, 1486, 1565, 1576, 1618, 1638, 1749, 1752, 1837, 1915, 1990, 2001, 2019, 2028, 2045, 2057, 2075, 2087, 2109, 2161, 2225, 2227, 2235, 2258, 2286, 2301, 2340, 2341, 2372, 2374, 2381, 2411, 2460, 2466, 2604, 2608, 2642, 2650, 2670, 2681, 2703, 2712, 2714, 2718, 2771, 2791, 2792, 2855, 2921, 2952, 3004, 3007, 3073, 3101, 3225, 3247, 3252, ...], ('America/Chicago', 'Windows'): [41, 120, 121, 145, 160, 165, 179, 190, 197, 212, 216, 225, 228, 236, 270, 291, 312, 318, 336, 356, 365, 375, 387, 412, 428, 441, 466, 502, 530, 576, 585, 626, 652, 656, 660, 665, 753, 757, 767, 771, 817, 827, 830, 852, 881, 924, 951, 957, 973, 974, 989, 996, 1015, 1022, 1045, 1047, 1049, 1053, 1054, 1055, 1060, 1063, 1069, 1109, 1112, 1115, 1125, 1140, 1142, 1160, 1161, 1185, 1192, 1210, 1218, 1240, 1269, 1280, 1323, 1441, 1450, 1493, 1532, 1536, 1538, 1554, 1574, 1578, 1633, 1668, 1673, 1678, 1679, 1680, 1688, 1689, 1690, 1700, 1701, 1703, ...], ('America/Chihuahua', 'Not Windows'): [3119], ('America/Chihuahua', 'Windows'): [1810], ('America/Costa_Rica', 'Windows'): [1558], ('America/Denver', 'Not Windows'): [1, 18, 82, 104, 147, 156, 164, 185, 211, 230, 284, 303, 351, 362, 405, 422, 482, 504, 557, 573, 620, 633, 673, 698, 746, 761, 815, 816, 832, 838, 899, 925, 982, 1001, 1046, 1061, 1103, 1119, 1159, 1171, 1214, 1227, 1273, 1294, 1333, 1344, 1382, 1395, 1403, 1454, 1473, 1520, 1537, 1573, 1587, 1626, 1643, 1702, 1747, 1793, 1809, 1853, 1866, 1905, 1921, 1957, 1970, 2000, 2016, 2025, 2078, 2092, 2136, 2154, 2194, 2213, 2253, 2269, 2307, 2325, 2370, 2391, 2441, 2451, 2497, 2517, 2563, 2579, 2599, 2617, 2638, 2673, 2684, 2726, 2740, 2773, 2774, 2788, 2793, 2796, ...], ('America/Denver', 'Windows'): [126, 136, 196, 242, 373, 396, 398, 448, 672, 677, 730, 752, 905, 952, 1057, 1157, 1158, 1393, 1419, 1499, 1549, 1605, 1671, 1672, 1726, 1818, 1838, 1873, 1913, 1923, 2108, 2252, 2304, 2403, 2406, 2419, 2537, 2558, 2683, 2709, 2716, 2722, 2741, 2850, 2961, 3002, 3021, 3023, 3031, 3192, 3222, 3291, 3298, 3334, 3446, 3508, 3511, 3528, 3540], ('America/Edmonton', 'Not Windows'): [2464, 2781], ('America/Edmonton', 'Windows'): [417, 1453, 1683, 3358], ('America/Guayaquil', 'Not Windows'): [1945, 2006], ('America/Halifax', 'Not Windows'): [1526], ('America/Halifax', 'Windows'): [360, 1880, 1963], ('America/Indianapolis', 'Not Windows'): [1781, 1832, 1956, 2139, 2363, 2724, 2967, 3075], ('America/Indianapolis', 'Windows'): [232, 269, 384, 863, 1167, 1992, 2199, 2382, 2607, 3166, 3373, 3493], ('America/La_Paz', 'Windows'): [3110], ('America/Lima', 'Windows'): [1588], ('America/Los_Angeles', 'Not Windows'): [45, 153, 174, 203, 205, 221, 315, 317, 394, 420, 436, 443, 445, 495, 515, 560, 575, 591, 612, 689, 702, 809, 860, 921, 933, 938, 943, 978, 983, 999, 1013, 1025, 1026, 1077, 1080, 1106, 1116, 1155, 1202, 1243, 1251, 1258, 1271, 1297, 1300, 1324, 1332, 1336, 1353, 1368, 1384, 1396, 1400, 1424, 1460, 1472, 1481, 1482, 1483, 1484, 1508, 1533, 1535, 1542, 1624, 1644, 1645, 1647, 1770, 1792, 1794, 1806, 1807, 1846, 1869, 1894, 1896, 1918, 1951, 1953, 1985, 1986, 2147, 2184, 2236, 2247, 2271, 2280, 2283, 2296, 2365, 2424, 2427, 2438, 2442, 2459, 2467, 2488, 2499, 2512, ...], ('America/Los_Angeles', 'Windows'): [10, 54, 85, 125, 133, 151, 213, 285, 286, 307, 316, 323, 341, 344, 346, 348, 353, 376, 401, 410, 423, 425, 432, 450, 477, 479, 499, 509, 543, 561, 562, 563, 564, 577, 578, 580, 586, 614, 615, 634, 655, 680, 705, 707, 719, 759, 766, 779, 787, 790, 793, 795, 800, 801, 802, 804, 805, 810, 811, 812, 822, 831, 835, 836, 837, 850, 856, 859, 861, 865, 866, 882, 898, 915, 961, 962, 972, 976, 1006, 1037, 1070, 1076, 1098, 1104, 1105, 1110, 1136, 1141, 1162, 1180, 1190, 1196, 1198, 1207, 1209, 1216, 1217, 1219, 1230, 1235, ...], ('America/Managua', 'Windows'): [1821, 1844, 1911], ('America/Mazatlan', 'Not Windows'): [86], ('America/Mexico_City', 'Not Windows'): [720, 778, 1052, 1313, 1343, 1444, 2982], ('America/Mexico_City', 'Windows'): [647, 918, 934, 1038, 1275, 1594, 2428, 2932], ('America/Monterrey', 'Not Windows'): [770], ('America/Montevideo', 'Windows'): [1394], ('America/Montreal', 'Not Windows'): [1932, 2261, 2509], ('America/Montreal', 'Windows'): [237, 503, 1723, 1730, 2263, 2482], ('America/New_York', 'Not Windows'): [11, 17, 21, 23, 40, 44, 51, 74, 93, 107, 128, 134, 138, 150, 195, 199, 227, 262, 271, 282, 287, 290, 293, 319, 320, 322, 324, 330, 335, 338, 339, 355, 361, 367, 397, 399, 415, 429, 433, 442, 454, 458, 459, 460, 463, 506, 507, 512, 517, 527, 531, 539, 548, 551, 568, 574, 579, 582, 593, 607, 611, 623, 653, 667, 684, 696, 697, 713, 716, 722, 735, 736, 763, 772, 773, 828, 841, 848, 876, 877, 887, 891, 901, 904, 909, 940, 949, 953, 967, 968, 969, 988, 1008, 1009, 1010, 1023, 1028, 1029, 1042, 1051, ...], ('America/New_York', 'Windows'): [0, 2, 4, 5, 12, 14, 22, 31, 38, 39, 43, 48, 49, 52, 63, 65, 73, 78, 80, 89, 95, 98, 100, 103, 106, 109, 112, 113, 114, 115, 116, 122, 130, 132, 137, 140, 141, 142, 143, 155, 161, 168, 177, 180, 188, 191, 194, 201, 206, 219, 235, 239, 253, 258, 263, 275, 277, 278, 279, 288, 289, 292, 298, 299, 300, 302, 306, 311, 314, 333, 334, 337, 345, 347, 354, 386, 389, 395, 404, 406, 413, 414, 418, 427, 430, 431, 438, 440, 444, 446, 451, 452, 456, 457, 464, 465, 468, 470, 472, 480, ...], ('America/Phoenix', 'Not Windows'): [2105, 2541, 3361], ('America/Phoenix', 'Windows'): [200, 421, 424, 629, 987, 1736, 1808, 1878, 1882, 1909, 2257, 2463, 3012, 3044, 3145, 3417, 3440], ('America/Puerto_Rico', 'Not Windows'): [731, 732, 1130, 1131, 2544, 2583, 2587, 2643, 2644], ('America/Puerto_Rico', 'Windows'): [1048], ('America/Rainy_River', 'Not Windows'): [214, 234, 251, 535, 708, 1928, 2155, 2508, 2589, 3276], ('America/Rainy_River', 'Windows'): [131, 272, 525, 741, 992, 1154, 1570, 2013, 2063, 2276, 2498, 2550, 2770, 3128, 3410], ('America/Recife', 'Windows'): [461, 1579], ('America/Santo_Domingo', 'Not Windows'): [2375], ('America/Sao_Paulo', 'Not Windows'): [3, 27, 97, 546, 559, 686, 786, 941, 1429, 1899, 1904, 2288, 2815], ('America/Sao_Paulo', 'Windows'): [56, 110, 167, 635, 1226, 1253, 1350, 1433, 1555, 1863, 2140, 2209, 2399, 2478, 2484, 2593, 2679, 2695, 2739, 2828], ('America/St_Kitts', 'Not Windows'): [2264], ('America/Tegucigalpa', 'Windows'): [3537], ('America/Vancouver', 'Not Windows'): [99, 267, 309, 369, 1861, 3162], ('America/Vancouver', 'Windows'): [476, 558, 569, 1534, 2481, 2911], ('America/Winnipeg', 'Not Windows'): [884, 2081, 2202], ('America/Winnipeg', 'Windows'): [2224], ('Asia/Amman', 'Windows'): [2133, 2157], ('Asia/Bangkok', 'Windows'): [123, 172, 513, 1229, 1232, 1682], ('Asia/Beirut', 'Not Windows'): [1560], ('Asia/Beirut', 'Windows'): [274, 1387, 1822], ('Asia/Calcutta', 'Not Windows'): [2217, 2623], ('Asia/Calcutta', 'Windows'): [238, 390, 1779, 1988, 2243, 2326, 2984], ('Asia/Dubai', 'Not Windows'): [3140, 3514], ('Asia/Dubai', 'Windows'): [1089, 2935], ('Asia/Harbin', 'Windows'): [2066, 2292, 2831], ('Asia/Hong_Kong', 'Not Windows'): [58, 59, 782, 789], ('Asia/Hong_Kong', 'Windows'): [15, 16, 90, 91, 871, 872], ('Asia/Istanbul', 'Windows'): [469, 496, 511, 690, 928, 1471, 1830, 2012, 2847], ('Asia/Jakarta', 'Not Windows'): [3357, 3362], ('Asia/Jakarta', 'Windows'): [3404], ('Asia/Jerusalem', 'Not Windows'): [1796, 3420], ('Asia/Jerusalem', 'Windows'): [217], ('Asia/Karachi', 'Windows'): [220, 331, 3455], ('Asia/Kuala_Lumpur', 'Not Windows'): [117], ('Asia/Kuala_Lumpur', 'Windows'): [25, 2878], ('Asia/Kuching', 'Windows'): [2734], ('Asia/Manila', 'Windows'): [1165], ('Asia/Nicosia', 'Windows'): [26], ('Asia/Novosibirsk', 'Windows'): [498], ('Asia/Pontianak', 'Not Windows'): [1610], ('Asia/Riyadh', 'Windows'): [1392], ('Asia/Seoul', 'Not Windows'): [3154, 3175, 3496, 3506], ('Asia/Seoul', 'Windows'): [1428], ('Asia/Tokyo', 'Not Windows'): [184, 2889], ('Asia/Tokyo', 'Windows'): [434, 483, 519, 542, 572, 602, 619, 640, 651, 670, 695, 714, 733, 742, 758, 776, 807, 840, 873, 896, 922, 923, 945, 998, 1016, 1031, 1039, 1044, 1065, 1108, 1129, 1178, 1642, 2953, 3055], ('Asia/Yekaterinburg', 'Windows'): [1137], ('Australia/NSW', 'Not Windows'): [283, 1351, 2216, 3198, 3279], ('Australia/NSW', 'Windows'): [1968], ('Australia/Queensland', 'Windows'): [1459], ('Chile/Continental', 'Not Windows'): [349, 927, 981, 994, 1784], ('Chile/Continental', 'Windows'): [2360], ('Europe/Amsterdam', 'Not Windows'): [1128, 1632, 1901, 2085, 2091, 2875, 3142, 3262, 3386, 3393, 3398, 3500], ('Europe/Amsterdam', 'Windows'): [101, 246, 411, 1383, 2131, 2135, 2324, 2388, 2858, 3074], ('Europe/Athens', 'Not Windows'): [1440, 1912, 1938], ('Europe/Athens', 'Windows'): [794, 1041, 1356], ('Europe/Belgrade', 'Windows'): [1474, 2220], ('Europe/Berlin', 'Not Windows'): [124, 637, 1245, 1246, 1445, 1823, 2357, 3349, 3438], ...}\n"
     ]
    }
   ],
   "source": [
    "os_by_tz = temp_frame_records.groupby(['tz', operating_system])\n",
    "print(os_by_tz.groups)"
   ]
  }
 ],
 "metadata": {
  "kernelspec": {
   "display_name": "Python 3",
   "language": "python",
   "name": "python3"
  },
  "language_info": {
   "codemirror_mode": {
    "name": "ipython",
    "version": 3
   },
   "file_extension": ".py",
   "mimetype": "text/x-python",
   "name": "python",
   "nbconvert_exporter": "python",
   "pygments_lexer": "ipython3",
   "version": "3.8.5"
  }
 },
 "nbformat": 4,
 "nbformat_minor": 4
}
